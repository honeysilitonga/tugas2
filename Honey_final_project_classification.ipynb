{
  "cells": [
    {
      "cell_type": "markdown",
      "metadata": {
        "id": "view-in-github",
        "colab_type": "text"
      },
      "source": [
        "<a href=\"https://colab.research.google.com/github/honeysilitonga/tugas2/blob/main/Honey_final_project_classification.ipynb\" target=\"_parent\"><img src=\"https://colab.research.google.com/assets/colab-badge.svg\" alt=\"Open In Colab\"/></a>"
      ]
    },
    {
      "cell_type": "markdown",
      "source": [
        "Import library yang dibutuhkan"
      ],
      "metadata": {
        "id": "9WBfGJMhSSf7"
      },
      "id": "9WBfGJMhSSf7"
    },
    {
      "cell_type": "code",
      "execution_count": 1,
      "id": "a114b833-49b6-4dc3-9283-8b4d95dbf335",
      "metadata": {
        "id": "a114b833-49b6-4dc3-9283-8b4d95dbf335"
      },
      "outputs": [],
      "source": [
        "import numpy as np\n",
        "import pandas as pd\n",
        "import matplotlib.pyplot as plt\n",
        "import seaborn as sns\n",
        "from sklearn.preprocessing import OrdinalEncoder, OneHotEncoder, RobustScaler, StandardScaler\n",
        "from sklearn.impute import KNNImputer\n",
        "from sklearn.model_selection import train_test_split, GridSearchCV, cross_validate\n",
        "from sklearn.linear_model import LogisticRegression\n",
        "from sklearn.metrics import classification_report, roc_curve, precision_recall_curve\n",
        "from sklearn.tree import DecisionTreeClassifier\n",
        "from sklearn.ensemble import RandomForestClassifier\n",
        "from scipy.stats import spearmanr\n",
        "from sklearn.feature_selection import mutual_info_classif\n",
        "import warnings\n",
        "warnings.filterwarnings('ignore')\n",
        "pd.set_option(\"display.max_columns\", None)"
      ]
    },
    {
      "cell_type": "markdown",
      "source": [
        "akses ke google drive"
      ],
      "metadata": {
        "id": "hUVFblEiSWm_"
      },
      "id": "hUVFblEiSWm_"
    },
    {
      "cell_type": "code",
      "execution_count": 2,
      "metadata": {
        "id": "2b7095d9-7101-4eab-a4fb-dd71aaddfb42",
        "colab": {
          "base_uri": "https://localhost:8080/"
        },
        "outputId": "140b8693-84ac-4e03-aab6-4cec504b6a39"
      },
      "outputs": [
        {
          "output_type": "stream",
          "name": "stdout",
          "text": [
            "Mounted at /drive/\n"
          ]
        }
      ],
      "source": [
        "from google.colab import drive\n",
        "drive.mount('/drive/', force_remount=True)"
      ],
      "id": "2b7095d9-7101-4eab-a4fb-dd71aaddfb42"
    },
    {
      "cell_type": "code",
      "source": [
        "from google.colab import drive\n",
        "drive.mount('/content/drive')"
      ],
      "metadata": {
        "colab": {
          "base_uri": "https://localhost:8080/"
        },
        "id": "SL7qr10OVxxj",
        "outputId": "3a73012d-53c2-4ae2-8ee9-575d68654036"
      },
      "id": "SL7qr10OVxxj",
      "execution_count": 3,
      "outputs": [
        {
          "output_type": "stream",
          "name": "stdout",
          "text": [
            "Mounted at /content/drive\n"
          ]
        }
      ]
    },
    {
      "cell_type": "code",
      "source": [
        "df_train = pd.read_csv('/content/drive/MyDrive/Colab Notebooks/ecommerce_traintest.csv')"
      ],
      "metadata": {
        "id": "mcrt5l8tWjOQ"
      },
      "execution_count": 4,
      "outputs": [],
      "id": "mcrt5l8tWjOQ"
    },
    {
      "cell_type": "code",
      "source": [
        "df_test = pd.read_csv('/content/drive/MyDrive/Colab Notebooks/ecommerce_pengujian.csv')"
      ],
      "metadata": {
        "id": "nhv7vu4CXXxF"
      },
      "id": "nhv7vu4CXXxF",
      "execution_count": 5,
      "outputs": []
    },
    {
      "cell_type": "markdown",
      "source": [
        "(1) Download dataset pada link :\n",
        "\n",
        "(2) Upload di drive masing-masing"
      ],
      "metadata": {
        "id": "_oEk07ipR0lb"
      },
      "id": "_oEk07ipR0lb"
    },
    {
      "cell_type": "markdown",
      "id": "0e9fc006-0037-4401-a65a-9dcf11adedc8",
      "metadata": {
        "id": "0e9fc006-0037-4401-a65a-9dcf11adedc8"
      },
      "source": [
        "(3) gunakan data ecommerce_traintest.csv, drop kolom yang tidak dibutuhkan.\n",
        "\n",
        "(4) Define target/output = \"label\", feature/input kolom lainnya\n",
        "\n",
        "(5) Split data menjadi training set dan test set (test_size = 0.2) dengan stratify pada kolom **label**\n",
        "\n",
        "(6) print shape pada X_train, X_test, y_train, dan y_test"
      ]
    },
    {
      "cell_type": "code",
      "source": [
        "# Menampilkan nama kolom untuk dataset pelatihan\n",
        "kolom_train = df_train.columns\n",
        "print(\"Nama Kolom pada Dataset Pelatihan:\")\n",
        "print(kolom_train)"
      ],
      "metadata": {
        "colab": {
          "base_uri": "https://localhost:8080/"
        },
        "id": "wiLjwYLrby6P",
        "outputId": "83803907-0895-4769-f9fd-ecd1afdd19ac"
      },
      "id": "wiLjwYLrby6P",
      "execution_count": 6,
      "outputs": [
        {
          "output_type": "stream",
          "name": "stdout",
          "text": [
            "Nama Kolom pada Dataset Pelatihan:\n",
            "Index(['customer_id', 'customer_city', 'order_status',\n",
            "       'order_purchase_timestamp', 'order_approved_at',\n",
            "       'order_delivered_carrier_date', 'order_delivered_customer_date',\n",
            "       'order_estimated_delivery_date', 'order_item_id', 'shipping_limit_date',\n",
            "       'price', 'freight_value', 'payment_sequential', 'payment_type',\n",
            "       'payment_installments', 'payment_value', 'product_category_name',\n",
            "       'product_name_lenght', 'product_description_lenght',\n",
            "       'product_photos_qty', 'product_weight_g', 'product_length_cm',\n",
            "       'product_height_cm', 'product_width_cm', 'label'],\n",
            "      dtype='object')\n"
          ]
        }
      ]
    },
    {
      "cell_type": "code",
      "source": [
        "# Menampilkan nama kolom untuk dataset pengujian\n",
        "kolom_test = df_test.columns\n",
        "print(\"\\nNama Kolom pada Dataset Pengujian:\")\n",
        "print(kolom_test)"
      ],
      "metadata": {
        "colab": {
          "base_uri": "https://localhost:8080/"
        },
        "id": "LdsRjKG4cRFk",
        "outputId": "699e5e18-11b3-428f-f08d-373e07fe2f0b"
      },
      "id": "LdsRjKG4cRFk",
      "execution_count": 7,
      "outputs": [
        {
          "output_type": "stream",
          "name": "stdout",
          "text": [
            "\n",
            "Nama Kolom pada Dataset Pengujian:\n",
            "Index(['customer_id', 'customer_city', 'order_status',\n",
            "       'order_purchase_timestamp', 'order_approved_at',\n",
            "       'order_delivered_carrier_date', 'order_delivered_customer_date',\n",
            "       'order_estimated_delivery_date', 'order_item_id', 'shipping_limit_date',\n",
            "       'price', 'freight_value', 'payment_sequential', 'payment_type',\n",
            "       'payment_installments', 'payment_value', 'product_category_name',\n",
            "       'product_name_lenght', 'product_description_lenght',\n",
            "       'product_photos_qty', 'product_weight_g', 'product_length_cm',\n",
            "       'product_height_cm', 'product_width_cm'],\n",
            "      dtype='object')\n"
          ]
        }
      ]
    },
    {
      "cell_type": "markdown",
      "source": [
        "# Imbalance Data Handling"
      ],
      "metadata": {
        "id": "PnwrtMdxr6bN"
      },
      "id": "PnwrtMdxr6bN"
    },
    {
      "cell_type": "code",
      "source": [
        "# Menampilkan jumlah kolom sebelum melakukan drop pada dataset pelatihan\n",
        "jumlah_kolom_sebelum_drop_train = df_train.shape[1]\n",
        "print(f\"Jumlah Kolom sebelum Drop pada Dataset Pelatihan: {jumlah_kolom_sebelum_drop_train}\")\n",
        "\n",
        "# Menampilkan jumlah kolom sebelum melakukan drop pada dataset pengujian\n",
        "jumlah_kolom_sebelum_drop_test = df_test.shape[1]\n",
        "print(f\"Jumlah Kolom sebelum Drop pada Dataset Pengujian: {jumlah_kolom_sebelum_drop_test}\")"
      ],
      "metadata": {
        "colab": {
          "base_uri": "https://localhost:8080/"
        },
        "id": "GaGtHiAnc3HI",
        "outputId": "1d4fbfb7-945e-49e1-96a3-5117bb184ba5"
      },
      "id": "GaGtHiAnc3HI",
      "execution_count": 8,
      "outputs": [
        {
          "output_type": "stream",
          "name": "stdout",
          "text": [
            "Jumlah Kolom sebelum Drop pada Dataset Pelatihan: 25\n",
            "Jumlah Kolom sebelum Drop pada Dataset Pengujian: 24\n"
          ]
        }
      ]
    },
    {
      "cell_type": "code",
      "source": [
        "# Menemukan kolom-kolom yang berbeda antara kedua dataset\n",
        "kolom_beda_train_test = set(df_train.columns) - set(df_test.columns)\n",
        "kolom_beda_test_train = set(df_test.columns) - set(df_train.columns)\n",
        "\n",
        "print(\"Kolom yang Berbeda dari Dataset Pelatihan ke Dataset Pengujian:\")\n",
        "print(kolom_beda_train_test)\n",
        "\n",
        "print(\"\\nKolom yang Berbeda dari Dataset Pengujian ke Dataset Pelatihan:\")\n",
        "print(kolom_beda_test_train)"
      ],
      "metadata": {
        "colab": {
          "base_uri": "https://localhost:8080/"
        },
        "id": "J_Eptn6udaii",
        "outputId": "440d3b1a-a655-4411-e585-6248ba57c0a3"
      },
      "id": "J_Eptn6udaii",
      "execution_count": 9,
      "outputs": [
        {
          "output_type": "stream",
          "name": "stdout",
          "text": [
            "Kolom yang Berbeda dari Dataset Pelatihan ke Dataset Pengujian:\n",
            "{'label'}\n",
            "\n",
            "Kolom yang Berbeda dari Dataset Pengujian ke Dataset Pelatihan:\n",
            "set()\n"
          ]
        }
      ]
    },
    {
      "cell_type": "code",
      "source": [
        "# Menyimpan variabel target\n",
        "y_train = df_train['label']"
      ],
      "metadata": {
        "id": "c71EGCIhfEhp"
      },
      "id": "c71EGCIhfEhp",
      "execution_count": 10,
      "outputs": []
    },
    {
      "cell_type": "code",
      "source": [
        "# Kolom-kolom yang akan di-drop dari kedua dataset\n",
        "kolom_tidak_dibutuhkan = ['customer_id',\n",
        "    'order_status', 'order_purchase_timestamp', 'order_approved_at',\n",
        "    'order_delivered_carrier_date', 'order_delivered_customer_date',\n",
        "    'order_estimated_delivery_date', 'order_item_id', 'shipping_limit_date',\n",
        "    'price', 'freight_value',\n",
        "    'payment_sequential', 'payment_type', 'payment_installments', 'payment_value']"
      ],
      "metadata": {
        "id": "9FvQ-37hfF5b"
      },
      "id": "9FvQ-37hfF5b",
      "execution_count": 13,
      "outputs": []
    },
    {
      "cell_type": "code",
      "source": [
        "# Mendrop kolom-kolom yang tidak dibutuhkan dari kedua dataset\n",
        "X_train = df_train.drop(kolom_tidak_dibutuhkan + ['label'], axis=1)\n",
        "X_test = df_test.drop(kolom_tidak_dibutuhkan, axis=1)"
      ],
      "metadata": {
        "id": "IHXfeaSVfNDv"
      },
      "id": "IHXfeaSVfNDv",
      "execution_count": 14,
      "outputs": []
    },
    {
      "cell_type": "code",
      "source": [
        "# Bagi data df_train menjadi set pelatihan dan test dengan stratify\n",
        "X_train, X_test, y_train, y_test = train_test_split(X_train, y_train, test_size=0.2, stratify=y_train, random_state=42)"
      ],
      "metadata": {
        "id": "k_wu1RdIiaba"
      },
      "id": "k_wu1RdIiaba",
      "execution_count": 15,
      "outputs": []
    },
    {
      "cell_type": "code",
      "source": [
        "# Menampilkan shape dari X_train, X_test, y_train, dan y_test\n",
        "print(\"Shape X_train:\", X_train.shape)\n",
        "print(\"Shape X_test:\", X_test.shape)\n",
        "print(\"Shape y_train:\", y_train.shape)\n",
        "print(\"Shape y_test:\", y_test.shape)"
      ],
      "metadata": {
        "colab": {
          "base_uri": "https://localhost:8080/"
        },
        "id": "Xa_bD8HVioeP",
        "outputId": "2987ef04-1b44-4e6a-8f53-14bafb7f8929"
      },
      "id": "Xa_bD8HVioeP",
      "execution_count": 16,
      "outputs": [
        {
          "output_type": "stream",
          "name": "stdout",
          "text": [
            "Shape X_train: (3200, 9)\n",
            "Shape X_test: (800, 9)\n",
            "Shape y_train: (3200,)\n",
            "Shape y_test: (800,)\n"
          ]
        }
      ]
    },
    {
      "cell_type": "code",
      "source": [
        "# Menampilkan beberapa baris pertama dari X_train dan X_test\n",
        "print(\"Head X_train:\\n\", X_train.head())\n",
        "print(\"\\nHead X_test:\\n\", X_test.head())"
      ],
      "metadata": {
        "colab": {
          "base_uri": "https://localhost:8080/"
        },
        "id": "tijiQHCwjBVG",
        "outputId": "9f860f4f-8dc1-4c59-a988-999568392b20"
      },
      "id": "tijiQHCwjBVG",
      "execution_count": 17,
      "outputs": [
        {
          "output_type": "stream",
          "name": "stdout",
          "text": [
            "Head X_train:\n",
            "        customer_city product_category_name  product_name_lenght  \\\n",
            "1045           lages    eletrodomesticos_2                 33.0   \n",
            "3557  rio de janeiro           eletronicos                 44.0   \n",
            "3418         valenca             telefonia                 55.0   \n",
            "24    rio de janeiro      moveis_decoracao                 60.0   \n",
            "3765          maceio      moveis_decoracao                 45.0   \n",
            "\n",
            "      product_description_lenght  product_photos_qty  product_weight_g  \\\n",
            "1045                       111.0                 1.0              7350   \n",
            "3557                       293.0                 3.0             16850   \n",
            "3418                      2139.0                 2.0               421   \n",
            "24                         473.0                 1.0               600   \n",
            "3765                       660.0                 1.0              3450   \n",
            "\n",
            "      product_length_cm  product_height_cm  product_width_cm  \n",
            "1045                 44                 14                30  \n",
            "3557                 22                 22                18  \n",
            "3418                 23                 14                17  \n",
            "24                   30                  4                20  \n",
            "3765                 23                 35                35  \n",
            "\n",
            "Head X_test:\n",
            "               customer_city  product_category_name  product_name_lenght  \\\n",
            "3858         rio de janeiro       moveis_decoracao                 50.0   \n",
            "502   campos dos goytacazes        cama_mesa_banho                 56.0   \n",
            "2294         rio de janeiro  utilidades_domesticas                 28.0   \n",
            "3117              sao paulo       malas_acessorios                 56.0   \n",
            "763               sao paulo     relogios_presentes                 59.0   \n",
            "\n",
            "      product_description_lenght  product_photos_qty  product_weight_g  \\\n",
            "3858                       422.0                 7.0              2850   \n",
            "502                        255.0                 1.0              1800   \n",
            "2294                       308.0                 2.0              1650   \n",
            "3117                       730.0                 3.0              3700   \n",
            "763                        319.0                 4.0               250   \n",
            "\n",
            "      product_length_cm  product_height_cm  product_width_cm  \n",
            "3858                 40                  5                44  \n",
            "502                  30                  5                30  \n",
            "2294                 35                 30                15  \n",
            "3117                 37                 42                39  \n",
            "763                  16                  2                20  \n"
          ]
        }
      ]
    },
    {
      "cell_type": "markdown",
      "source": [
        "(1) Cek nilai sebaran output/target\n",
        "\n",
        "(2) lakukan imbalance data handling (oversampling atau undersampling)\n",
        "\n",
        "(3) fit_resample dan dapatkan dataset baru yang dengan nilai output yang balance"
      ],
      "metadata": {
        "id": "8BaXMWuNo-3b"
      },
      "id": "8BaXMWuNo-3b"
    },
    {
      "cell_type": "code",
      "source": [
        "# Cek sebaran nilai output/target pada dataset pelatihan\n",
        "print(\"Sebaran nilai output pada dataset pelatihan:\")\n",
        "print(y_train.value_counts())\n",
        "\n",
        "# Cek sebaran nilai output/target pada dataset pengujian\n",
        "print(\"\\nSebaran nilai output pada dataset pengujian:\")\n",
        "print(y_test.value_counts())"
      ],
      "metadata": {
        "colab": {
          "base_uri": "https://localhost:8080/"
        },
        "id": "7O_CadCLkblt",
        "outputId": "09821fee-0ecd-4f02-8338-82ef0ae706a7"
      },
      "id": "7O_CadCLkblt",
      "execution_count": 18,
      "outputs": [
        {
          "output_type": "stream",
          "name": "stdout",
          "text": [
            "Sebaran nilai output pada dataset pelatihan:\n",
            "1    1858\n",
            "0    1342\n",
            "Name: label, dtype: int64\n",
            "\n",
            "Sebaran nilai output pada dataset pengujian:\n",
            "1    465\n",
            "0    335\n",
            "Name: label, dtype: int64\n"
          ]
        }
      ]
    },
    {
      "cell_type": "code",
      "source": [
        "print(\"Dimensi X_train sebelum oversampling:\", X_train.shape)\n",
        "print(\"Dimensi y_train sebelum oversampling:\", y_train.shape)"
      ],
      "metadata": {
        "colab": {
          "base_uri": "https://localhost:8080/"
        },
        "id": "4oa5uJUanPOK",
        "outputId": "e38ee5d4-ef02-400a-87b1-ee848bc73e23"
      },
      "id": "4oa5uJUanPOK",
      "execution_count": 19,
      "outputs": [
        {
          "output_type": "stream",
          "name": "stdout",
          "text": [
            "Dimensi X_train sebelum oversampling: (3200, 9)\n",
            "Dimensi y_train sebelum oversampling: (3200,)\n"
          ]
        }
      ]
    },
    {
      "cell_type": "code",
      "source": [
        "# Menggabungkan X_train dan y_train menjadi satu DataFrame\n",
        "df_train_combined = pd.concat([X_train, y_train], axis=1)\n",
        "\n",
        "# Pisahkan data antara label 0 dan 1\n",
        "df_label_0 = df_train_combined[df_train_combined['label'] == 0]\n",
        "df_label_1 = df_train_combined[df_train_combined['label'] == 1]\n",
        "\n",
        "# Tentukan target jumlah sampel yang diinginkan (misalnya, menyamakan jumlah sampel pada label 0 dan label 1)\n",
        "target_jumlah_sampel = df_train_combined['label'].value_counts().min()\n",
        "\n",
        "# Oversampling pada label 0 dan label 1\n",
        "df_label_0_oversampled = df_label_0.sample(target_jumlah_sampel, replace=True, random_state=42)\n",
        "df_label_1_oversampled = df_label_1.sample(target_jumlah_sampel, replace=True, random_state=42)\n",
        "\n",
        "# Gabungkan kembali dataset oversampled\n",
        "df_train_oversampled = pd.concat([df_label_0_oversampled, df_label_1_oversampled], axis=0)\n",
        "\n",
        "# Pisahkan kembali fitur dan label\n",
        "X_train_oversampled = df_train_oversampled.drop('label', axis=1)\n",
        "y_train_oversampled = df_train_oversampled['label']"
      ],
      "metadata": {
        "id": "Lrewakaqn_pY"
      },
      "id": "Lrewakaqn_pY",
      "execution_count": 20,
      "outputs": []
    },
    {
      "cell_type": "markdown",
      "id": "07c107d8-9fd8-4779-8a7c-f800700979b0",
      "metadata": {
        "id": "07c107d8-9fd8-4779-8a7c-f800700979b0"
      },
      "source": [
        "# Imputation"
      ]
    },
    {
      "cell_type": "markdown",
      "source": [
        "(1) Cek missing value pada x_train\n",
        "\n",
        "(2) lakukan imputation dengan menggunakan KNNImputer (jika perlu)"
      ],
      "metadata": {
        "id": "aFul82rhT98h"
      },
      "id": "aFul82rhT98h"
    },
    {
      "cell_type": "code",
      "source": [
        "print(X_train_oversampled.isnull().sum())"
      ],
      "metadata": {
        "colab": {
          "base_uri": "https://localhost:8080/"
        },
        "id": "3nMUdu-aolJ7",
        "outputId": "acc198ed-5645-4f3d-f2be-b4bec68b92a3"
      },
      "id": "3nMUdu-aolJ7",
      "execution_count": 21,
      "outputs": [
        {
          "output_type": "stream",
          "name": "stdout",
          "text": [
            "customer_city                  0\n",
            "product_category_name         33\n",
            "product_name_lenght           33\n",
            "product_description_lenght    33\n",
            "product_photos_qty            33\n",
            "product_weight_g               0\n",
            "product_length_cm              0\n",
            "product_height_cm              0\n",
            "product_width_cm               0\n",
            "dtype: int64\n"
          ]
        }
      ]
    },
    {
      "cell_type": "code",
      "source": [
        "# Mengisi nilai NaN dengan mean pada setiap kolom menggunakan nilai mean dari X_train_oversampled\n",
        "X_test = X_test.fillna(X_train_oversampled.mean())"
      ],
      "metadata": {
        "id": "8oNiTEAEvV8C"
      },
      "id": "8oNiTEAEvV8C",
      "execution_count": 22,
      "outputs": []
    },
    {
      "cell_type": "markdown",
      "id": "cfcbf1b2-c1bb-46e0-878c-44377292e85b",
      "metadata": {
        "id": "cfcbf1b2-c1bb-46e0-878c-44377292e85b"
      },
      "source": [
        "# Transformation"
      ]
    },
    {
      "cell_type": "markdown",
      "source": [
        "(1) Lakukan transformation :\n",
        "- data number pake scalling\n",
        "- data categorical pake OHE\n",
        "\n",
        "(2) Pada kolom kategorikal X_train lakukan OHE pada parameter handle_unknown beri argumen 'ignore' agar encoder robust terhadap adanya kategori di testing set yang tidak ada di training set."
      ],
      "metadata": {
        "id": "LigLRhTwUPJs"
      },
      "id": "LigLRhTwUPJs"
    },
    {
      "cell_type": "code",
      "source": [
        "# Mengetahui kolom pada df_train setelah drop\n",
        "kolom_df_train_setelah_drop = df_train.columns\n",
        "print(\"Kolom pada df_train setelah drop:\", kolom_df_train_setelah_drop)"
      ],
      "metadata": {
        "colab": {
          "base_uri": "https://localhost:8080/"
        },
        "id": "pYwwLzu1pzBy",
        "outputId": "6922a177-7982-448f-bdb7-4da5ff83d675"
      },
      "id": "pYwwLzu1pzBy",
      "execution_count": 23,
      "outputs": [
        {
          "output_type": "stream",
          "name": "stdout",
          "text": [
            "Kolom pada df_train setelah drop: Index(['customer_id', 'customer_city', 'order_status',\n",
            "       'order_purchase_timestamp', 'order_approved_at',\n",
            "       'order_delivered_carrier_date', 'order_delivered_customer_date',\n",
            "       'order_estimated_delivery_date', 'order_item_id', 'shipping_limit_date',\n",
            "       'price', 'freight_value', 'payment_sequential', 'payment_type',\n",
            "       'payment_installments', 'payment_value', 'product_category_name',\n",
            "       'product_name_lenght', 'product_description_lenght',\n",
            "       'product_photos_qty', 'product_weight_g', 'product_length_cm',\n",
            "       'product_height_cm', 'product_width_cm', 'label'],\n",
            "      dtype='object')\n"
          ]
        }
      ]
    },
    {
      "cell_type": "code",
      "source": [
        "# Mengetahui kolom pada X_train setelah drop\n",
        "kolom_X_train_setelah_drop = X_train.columns\n",
        "print(\"Kolom pada X_train setelah drop:\", kolom_X_train_setelah_drop)"
      ],
      "metadata": {
        "colab": {
          "base_uri": "https://localhost:8080/"
        },
        "id": "hnCxdQ2aqa71",
        "outputId": "942d5ae6-996e-4c5f-9814-69af382cee9d"
      },
      "id": "hnCxdQ2aqa71",
      "execution_count": 24,
      "outputs": [
        {
          "output_type": "stream",
          "name": "stdout",
          "text": [
            "Kolom pada X_train setelah drop: Index(['customer_city', 'product_category_name', 'product_name_lenght',\n",
            "       'product_description_lenght', 'product_photos_qty', 'product_weight_g',\n",
            "       'product_length_cm', 'product_height_cm', 'product_width_cm'],\n",
            "      dtype='object')\n"
          ]
        }
      ]
    },
    {
      "cell_type": "code",
      "source": [
        "# Menampilkan jenis data dari masing-masing kolom pada DataFrame X_train\n",
        "print(X_train[X_train.columns].dtypes)"
      ],
      "metadata": {
        "colab": {
          "base_uri": "https://localhost:8080/"
        },
        "id": "cIeUqeZKy0oU",
        "outputId": "31817459-bd24-4aa2-8a7f-53e789a25364"
      },
      "id": "cIeUqeZKy0oU",
      "execution_count": 28,
      "outputs": [
        {
          "output_type": "stream",
          "name": "stdout",
          "text": [
            "customer_city                  object\n",
            "product_category_name          object\n",
            "product_name_lenght           float64\n",
            "product_description_lenght    float64\n",
            "product_photos_qty            float64\n",
            "product_weight_g                int64\n",
            "product_length_cm               int64\n",
            "product_height_cm               int64\n",
            "product_width_cm                int64\n",
            "dtype: object\n"
          ]
        }
      ]
    },
    {
      "cell_type": "code",
      "source": [
        "# Inisialisasi OneHotEncoder\n",
        "encoder = OneHotEncoder(drop='first', sparse=False, handle_unknown='ignore')\n",
        "\n",
        "# Fit dan transform fitur kategorikal pada DataFrame X_train\n",
        "X_train_encoded = encoder.fit_transform(X_train[['customer_city', 'product_category_name']])\n",
        "\n",
        "# Transform fitur kategorikal pada DataFrame X_test\n",
        "X_test_encoded = encoder.transform(X_test[['customer_city', 'product_category_name']])"
      ],
      "metadata": {
        "id": "p1axlQ773ApK"
      },
      "id": "p1axlQ773ApK",
      "execution_count": 31,
      "outputs": []
    },
    {
      "cell_type": "code",
      "source": [
        "from sklearn.preprocessing import MinMaxScaler\n",
        "\n",
        "# Inisialisasi MinMaxScaler\n",
        "scaler = MinMaxScaler()\n",
        "\n",
        "# Normalisasi fitur numerik pada DataFrame X_train\n",
        "X_train_numeric_scaled = pd.DataFrame(scaler.fit_transform(X_train[['product_name_lenght', 'product_description_lenght', 'product_photos_qty', 'product_weight_g', 'product_length_cm', 'product_height_cm', 'product_width_cm']]), columns=['product_name_lenght', 'product_description_lenght', 'product_photos_qty', 'product_weight_g', 'product_length_cm', 'product_height_cm', 'product_width_cm'])\n",
        "\n",
        "# Normalisasi fitur numerik pada DataFrame X_test menggunakan skalar dari X_train\n",
        "X_test_numeric_scaled = pd.DataFrame(scaler.transform(X_test[['product_name_lenght', 'product_description_lenght', 'product_photos_qty', 'product_weight_g', 'product_length_cm', 'product_height_cm', 'product_width_cm']]), columns=['product_name_lenght', 'product_description_lenght', 'product_photos_qty', 'product_weight_g', 'product_length_cm', 'product_height_cm', 'product_width_cm'])"
      ],
      "metadata": {
        "id": "gde9h21v3sF-"
      },
      "id": "gde9h21v3sF-",
      "execution_count": 32,
      "outputs": []
    },
    {
      "cell_type": "code",
      "source": [
        "# Gabungkan fitur-fitur yang telah di-transformasi untuk X_train\n",
        "X_train_combined = pd.concat([X_train_numeric_scaled, pd.DataFrame(X_train_encoded, columns=encoder.get_feature_names_out(['customer_city', 'product_category_name']))], axis=1)\n",
        "\n",
        "# Gabungkan fitur-fitur yang telah di-transformasi untuk X_test\n",
        "X_test_combined = pd.concat([X_test_numeric_scaled, pd.DataFrame(X_test_encoded, columns=encoder.get_feature_names_out(['customer_city', 'product_category_name']))], axis=1)"
      ],
      "metadata": {
        "id": "YhHfkEXm4ckW"
      },
      "id": "YhHfkEXm4ckW",
      "execution_count": 33,
      "outputs": []
    },
    {
      "cell_type": "markdown",
      "id": "e86ed5cb-d07c-46cc-8332-10d1139aa1e3",
      "metadata": {
        "id": "e86ed5cb-d07c-46cc-8332-10d1139aa1e3"
      },
      "source": [
        "# Feature Selection"
      ]
    },
    {
      "cell_type": "markdown",
      "source": [
        "(1) Lakukan feature selection menggunakan multicolinearity reduction dan mutual info."
      ],
      "metadata": {
        "id": "22P6RmQwWVbc"
      },
      "id": "22P6RmQwWVbc"
    },
    {
      "cell_type": "code",
      "source": [
        "# Mengganti nilai kosong dengan nilai rata-rata pada df_train\n",
        "X_train = X_train.fillna(X_train.mean())\n",
        "\n",
        "# Mengganti nilai kosong dengan nilai rata-rata pada df_test\n",
        "X_test = X_test.fillna(X_test.mean())\n",
        "\n",
        "# Mengganti nilai tak terhingga dengan nilai rata-rata pada df_train\n",
        "X_train = X_train.replace([np.inf, -np.inf], np.nan)\n",
        "X_train = X_train.fillna(X_train.mean())\n",
        "\n",
        "# Mengganti nilai tak terhingga dengan nilai rata-rata pada df_test\n",
        "X_test = X_test.replace([np.inf, -np.inf], np.nan)\n",
        "X_test = X_test.fillna(X_test.mean())"
      ],
      "metadata": {
        "id": "lvQLy8fg5qWM"
      },
      "id": "lvQLy8fg5qWM",
      "execution_count": 35,
      "outputs": []
    },
    {
      "cell_type": "code",
      "source": [
        "print(X_train.columns)"
      ],
      "metadata": {
        "colab": {
          "base_uri": "https://localhost:8080/"
        },
        "id": "ipOS7VX57t0Z",
        "outputId": "02ebd0f2-2894-44aa-a9f8-8c9e0cafcf99"
      },
      "id": "ipOS7VX57t0Z",
      "execution_count": 46,
      "outputs": [
        {
          "output_type": "stream",
          "name": "stdout",
          "text": [
            "Index(['customer_city', 'product_category_name', 'product_description_lenght',\n",
            "       'product_photos_qty', 'product_weight_g', 'product_height_cm'],\n",
            "      dtype='object')\n"
          ]
        }
      ]
    },
    {
      "cell_type": "code",
      "source": [
        "from statsmodels.stats.outliers_influence import variance_inflation_factor\n",
        "from sklearn.feature_selection import mutual_info_classif\n",
        "\n",
        "# Ambang batas VIF dan Mutual Information\n",
        "ambang_batas_vif = 5\n",
        "ambang_batas_mi = 0.1"
      ],
      "metadata": {
        "id": "EGR9prf240Og"
      },
      "id": "EGR9prf240Og",
      "execution_count": 39,
      "outputs": []
    },
    {
      "cell_type": "code",
      "source": [
        "# 1. Multicolinearity Reduction (VIF) - df_train\n",
        "numerical_features_train_vif = ['product_description_lenght', 'product_photos_qty', 'product_weight_g', 'product_height_cm']\n",
        "vif_train = pd.DataFrame()\n",
        "vif_train[\"Feature\"] = X_train[numerical_features_train_vif].columns\n",
        "vif_train[\"VIF\"] = [variance_inflation_factor(X_train[numerical_features_train_vif].values, i) for i in range(X_train[numerical_features_train_vif].shape[1])]"
      ],
      "metadata": {
        "id": "FCvJGLic7aGd"
      },
      "id": "FCvJGLic7aGd",
      "execution_count": 51,
      "outputs": []
    },
    {
      "cell_type": "code",
      "source": [
        "# Pilih fitur-fitur dengan VIF yang melebihi ambang batas\n",
        "high_vif_features_train = vif_train[vif_train[\"VIF\"] > ambang_batas_vif].Feature.tolist()\n",
        "X_train = X_train.drop(columns=high_vif_features_train)\n",
        "X_test = X_test.drop(columns=high_vif_features_train)"
      ],
      "metadata": {
        "id": "eGVN19GY63rZ"
      },
      "id": "eGVN19GY63rZ",
      "execution_count": 52,
      "outputs": []
    },
    {
      "cell_type": "code",
      "source": [
        "# 2. Mutual Information - df_train\n",
        "# Pastikan hanya menggunakan fitur numerik untuk perhitungan Mutual Information\n",
        "numerical_features_train = ['product_description_lenght', 'product_photos_qty', 'product_weight_g', 'product_height_cm']\n",
        "mutual_info_values_train = mutual_info_classif(X_train[numerical_features_train], y_train)"
      ],
      "metadata": {
        "id": "yql3s1Wf7ABY"
      },
      "id": "yql3s1Wf7ABY",
      "execution_count": 56,
      "outputs": []
    },
    {
      "cell_type": "code",
      "source": [
        "# Pilih fitur-fitur dengan mutual information yang kurang dari ambang batas\n",
        "low_mi_features_train = [feature for feature, mi in zip(numerical_features_train, mutual_info_values_train) if mi < ambang_batas_mi]\n",
        "X_train = X_train.drop(columns=low_mi_features_train)\n",
        "X_test = X_test.drop(columns=low_mi_features_train)"
      ],
      "metadata": {
        "id": "tVdQG9DX-s8A"
      },
      "id": "tVdQG9DX-s8A",
      "execution_count": 58,
      "outputs": []
    },
    {
      "cell_type": "markdown",
      "source": [
        "# Modelling"
      ],
      "metadata": {
        "id": "cmyqseirrwaP"
      },
      "id": "cmyqseirrwaP"
    },
    {
      "cell_type": "markdown",
      "source": [
        "(1) Buatlah model Logistic Regression, Decision Tree, Random Forest, XGBoost, dan deep learning\n",
        "\n",
        "(2) Lakukan fitting untuk training dataset\n",
        "\n",
        "(3) Buat sebuah function classif yang bisa mencetak nilai metrics evaluation\n",
        "\n",
        "(4) Lakukan evaluasi pada masing-masing model"
      ],
      "metadata": {
        "id": "wUFZqRzusBL3"
      },
      "id": "wUFZqRzusBL3"
    },
    {
      "cell_type": "code",
      "source": [
        "from xgboost import XGBClassifier"
      ],
      "metadata": {
        "id": "3KNoFo9w_b0Z"
      },
      "id": "3KNoFo9w_b0Z",
      "execution_count": 60,
      "outputs": []
    },
    {
      "cell_type": "code",
      "source": [
        "X_train_encoded = pd.get_dummies(X_train, columns=['customer_city', 'product_category_name'], drop_first=True)\n",
        "X_test_encoded = pd.get_dummies(X_test, columns=['customer_city', 'product_category_name'], drop_first=True)"
      ],
      "metadata": {
        "id": "nI8cd0DACUve"
      },
      "id": "nI8cd0DACUve",
      "execution_count": 68,
      "outputs": []
    },
    {
      "cell_type": "code",
      "source": [
        "\n",
        "\n",
        "# Inisialisasi model\n",
        "logistic_model = LogisticRegression(random_state=42)\n",
        "decision_tree_model = DecisionTreeClassifier(random_state=42)\n",
        "random_forest_model = RandomForestClassifier(random_state=42)\n",
        "xgboost_model = XGBClassifier(random_state=42)"
      ],
      "metadata": {
        "id": "SSCD_LbrC_Q7"
      },
      "id": "SSCD_LbrC_Q7",
      "execution_count": 76,
      "outputs": []
    },
    {
      "cell_type": "code",
      "source": [
        "# Fitting model pada training dataset\n",
        "logistic_model.fit(X_train_encoded, y_train)\n",
        "decision_tree_model.fit(X_train_encoded, y_train)\n",
        "random_forest_model.fit(X_train_encoded, y_train)\n",
        "xgboost_model.fit(X_train_encoded, y_train)"
      ],
      "metadata": {
        "colab": {
          "base_uri": "https://localhost:8080/",
          "height": 268
        },
        "id": "5U-JIu0pDcOk",
        "outputId": "0be79768-3b85-44b1-a7ce-d43cb68567a5"
      },
      "id": "5U-JIu0pDcOk",
      "execution_count": 77,
      "outputs": [
        {
          "output_type": "execute_result",
          "data": {
            "text/plain": [
              "XGBClassifier(base_score=None, booster=None, callbacks=None,\n",
              "              colsample_bylevel=None, colsample_bynode=None,\n",
              "              colsample_bytree=None, device=None, early_stopping_rounds=None,\n",
              "              enable_categorical=False, eval_metric=None, feature_types=None,\n",
              "              gamma=None, grow_policy=None, importance_type=None,\n",
              "              interaction_constraints=None, learning_rate=None, max_bin=None,\n",
              "              max_cat_threshold=None, max_cat_to_onehot=None,\n",
              "              max_delta_step=None, max_depth=None, max_leaves=None,\n",
              "              min_child_weight=None, missing=nan, monotone_constraints=None,\n",
              "              multi_strategy=None, n_estimators=None, n_jobs=None,\n",
              "              num_parallel_tree=None, random_state=42, ...)"
            ],
            "text/html": [
              "<style>#sk-container-id-1 {color: black;background-color: white;}#sk-container-id-1 pre{padding: 0;}#sk-container-id-1 div.sk-toggleable {background-color: white;}#sk-container-id-1 label.sk-toggleable__label {cursor: pointer;display: block;width: 100%;margin-bottom: 0;padding: 0.3em;box-sizing: border-box;text-align: center;}#sk-container-id-1 label.sk-toggleable__label-arrow:before {content: \"▸\";float: left;margin-right: 0.25em;color: #696969;}#sk-container-id-1 label.sk-toggleable__label-arrow:hover:before {color: black;}#sk-container-id-1 div.sk-estimator:hover label.sk-toggleable__label-arrow:before {color: black;}#sk-container-id-1 div.sk-toggleable__content {max-height: 0;max-width: 0;overflow: hidden;text-align: left;background-color: #f0f8ff;}#sk-container-id-1 div.sk-toggleable__content pre {margin: 0.2em;color: black;border-radius: 0.25em;background-color: #f0f8ff;}#sk-container-id-1 input.sk-toggleable__control:checked~div.sk-toggleable__content {max-height: 200px;max-width: 100%;overflow: auto;}#sk-container-id-1 input.sk-toggleable__control:checked~label.sk-toggleable__label-arrow:before {content: \"▾\";}#sk-container-id-1 div.sk-estimator input.sk-toggleable__control:checked~label.sk-toggleable__label {background-color: #d4ebff;}#sk-container-id-1 div.sk-label input.sk-toggleable__control:checked~label.sk-toggleable__label {background-color: #d4ebff;}#sk-container-id-1 input.sk-hidden--visually {border: 0;clip: rect(1px 1px 1px 1px);clip: rect(1px, 1px, 1px, 1px);height: 1px;margin: -1px;overflow: hidden;padding: 0;position: absolute;width: 1px;}#sk-container-id-1 div.sk-estimator {font-family: monospace;background-color: #f0f8ff;border: 1px dotted black;border-radius: 0.25em;box-sizing: border-box;margin-bottom: 0.5em;}#sk-container-id-1 div.sk-estimator:hover {background-color: #d4ebff;}#sk-container-id-1 div.sk-parallel-item::after {content: \"\";width: 100%;border-bottom: 1px solid gray;flex-grow: 1;}#sk-container-id-1 div.sk-label:hover label.sk-toggleable__label {background-color: #d4ebff;}#sk-container-id-1 div.sk-serial::before {content: \"\";position: absolute;border-left: 1px solid gray;box-sizing: border-box;top: 0;bottom: 0;left: 50%;z-index: 0;}#sk-container-id-1 div.sk-serial {display: flex;flex-direction: column;align-items: center;background-color: white;padding-right: 0.2em;padding-left: 0.2em;position: relative;}#sk-container-id-1 div.sk-item {position: relative;z-index: 1;}#sk-container-id-1 div.sk-parallel {display: flex;align-items: stretch;justify-content: center;background-color: white;position: relative;}#sk-container-id-1 div.sk-item::before, #sk-container-id-1 div.sk-parallel-item::before {content: \"\";position: absolute;border-left: 1px solid gray;box-sizing: border-box;top: 0;bottom: 0;left: 50%;z-index: -1;}#sk-container-id-1 div.sk-parallel-item {display: flex;flex-direction: column;z-index: 1;position: relative;background-color: white;}#sk-container-id-1 div.sk-parallel-item:first-child::after {align-self: flex-end;width: 50%;}#sk-container-id-1 div.sk-parallel-item:last-child::after {align-self: flex-start;width: 50%;}#sk-container-id-1 div.sk-parallel-item:only-child::after {width: 0;}#sk-container-id-1 div.sk-dashed-wrapped {border: 1px dashed gray;margin: 0 0.4em 0.5em 0.4em;box-sizing: border-box;padding-bottom: 0.4em;background-color: white;}#sk-container-id-1 div.sk-label label {font-family: monospace;font-weight: bold;display: inline-block;line-height: 1.2em;}#sk-container-id-1 div.sk-label-container {text-align: center;}#sk-container-id-1 div.sk-container {/* jupyter's `normalize.less` sets `[hidden] { display: none; }` but bootstrap.min.css set `[hidden] { display: none !important; }` so we also need the `!important` here to be able to override the default hidden behavior on the sphinx rendered scikit-learn.org. See: https://github.com/scikit-learn/scikit-learn/issues/21755 */display: inline-block !important;position: relative;}#sk-container-id-1 div.sk-text-repr-fallback {display: none;}</style><div id=\"sk-container-id-1\" class=\"sk-top-container\"><div class=\"sk-text-repr-fallback\"><pre>XGBClassifier(base_score=None, booster=None, callbacks=None,\n",
              "              colsample_bylevel=None, colsample_bynode=None,\n",
              "              colsample_bytree=None, device=None, early_stopping_rounds=None,\n",
              "              enable_categorical=False, eval_metric=None, feature_types=None,\n",
              "              gamma=None, grow_policy=None, importance_type=None,\n",
              "              interaction_constraints=None, learning_rate=None, max_bin=None,\n",
              "              max_cat_threshold=None, max_cat_to_onehot=None,\n",
              "              max_delta_step=None, max_depth=None, max_leaves=None,\n",
              "              min_child_weight=None, missing=nan, monotone_constraints=None,\n",
              "              multi_strategy=None, n_estimators=None, n_jobs=None,\n",
              "              num_parallel_tree=None, random_state=42, ...)</pre><b>In a Jupyter environment, please rerun this cell to show the HTML representation or trust the notebook. <br />On GitHub, the HTML representation is unable to render, please try loading this page with nbviewer.org.</b></div><div class=\"sk-container\" hidden><div class=\"sk-item\"><div class=\"sk-estimator sk-toggleable\"><input class=\"sk-toggleable__control sk-hidden--visually\" id=\"sk-estimator-id-1\" type=\"checkbox\" checked><label for=\"sk-estimator-id-1\" class=\"sk-toggleable__label sk-toggleable__label-arrow\">XGBClassifier</label><div class=\"sk-toggleable__content\"><pre>XGBClassifier(base_score=None, booster=None, callbacks=None,\n",
              "              colsample_bylevel=None, colsample_bynode=None,\n",
              "              colsample_bytree=None, device=None, early_stopping_rounds=None,\n",
              "              enable_categorical=False, eval_metric=None, feature_types=None,\n",
              "              gamma=None, grow_policy=None, importance_type=None,\n",
              "              interaction_constraints=None, learning_rate=None, max_bin=None,\n",
              "              max_cat_threshold=None, max_cat_to_onehot=None,\n",
              "              max_delta_step=None, max_depth=None, max_leaves=None,\n",
              "              min_child_weight=None, missing=nan, monotone_constraints=None,\n",
              "              multi_strategy=None, n_estimators=None, n_jobs=None,\n",
              "              num_parallel_tree=None, random_state=42, ...)</pre></div></div></div></div></div>"
            ]
          },
          "metadata": {},
          "execution_count": 77
        }
      ]
    },
    {
      "cell_type": "code",
      "source": [
        "\n",
        "\n",
        "def evaluate_model(model, X, y):\n",
        "    # Prediksi pada dataset\n",
        "    y_pred = model.predict(X)\n",
        "\n",
        "    # Metrik evaluasi\n",
        "    accuracy = accuracy_score(y, y_pred)\n",
        "    precision = precision_score(y, y_pred)\n",
        "    recall = recall_score(y, y_pred)\n",
        "    f1 = f1_score(y, y_pred)\n",
        "    confusion = confusion_matrix(y, y_pred)\n",
        "\n",
        "    # Cetak hasil evaluasi\n",
        "    print(f\"Accuracy: {accuracy:.4f}\")\n",
        "    print(f\"Precision: {precision:.4f}\")\n",
        "    print(f\"Recall: {recall:.4f}\")\n",
        "    print(f\"F1 Score: {f1:.4f}\")\n",
        "    print(\"Confusion Matrix:\")\n",
        "    print(confusion)\n",
        "\n",
        "# Evaluasi Logistic Regression\n",
        "print(\"Logistic Regression:\")\n",
        "evaluate_model(logistic_model, X_train_encoded, y_train)\n",
        "print(\"\\n\")\n",
        "\n",
        "# Evaluasi Decision Tree\n",
        "print(\"Decision Tree:\")\n",
        "evaluate_model(decision_tree_model, X_train_encoded, y_train)\n",
        "print(\"\\n\")\n",
        "\n",
        "# Evaluasi Random Forest\n",
        "print(\"Random Forest:\")\n",
        "evaluate_model(random_forest_model, X_train_encoded, y_train)\n",
        "print(\"\\n\")\n",
        "\n",
        "# Evaluasi XGBoost\n",
        "print(\"XGBoost:\")\n",
        "evaluate_model(xgboost_model, X_train_encoded, y_train)"
      ],
      "metadata": {
        "colab": {
          "base_uri": "https://localhost:8080/"
        },
        "id": "G5kHzcIYD1Gi",
        "outputId": "a3a9fc2e-87e3-461e-e59a-7815f5d858ec"
      },
      "id": "G5kHzcIYD1Gi",
      "execution_count": 79,
      "outputs": [
        {
          "output_type": "stream",
          "name": "stdout",
          "text": [
            "Logistic Regression:\n",
            "Accuracy: 0.6787\n",
            "Precision: 0.6659\n",
            "Recall: 0.8967\n",
            "F1 Score: 0.7642\n",
            "Confusion Matrix:\n",
            "[[ 506  836]\n",
            " [ 192 1666]]\n",
            "\n",
            "\n",
            "Decision Tree:\n",
            "Accuracy: 0.8381\n",
            "Precision: 0.8556\n",
            "Recall: 0.8676\n",
            "F1 Score: 0.8616\n",
            "Confusion Matrix:\n",
            "[[1070  272]\n",
            " [ 246 1612]]\n",
            "\n",
            "\n",
            "Random Forest:\n",
            "Accuracy: 0.8381\n",
            "Precision: 0.8234\n",
            "Recall: 0.9182\n",
            "F1 Score: 0.8682\n",
            "Confusion Matrix:\n",
            "[[ 976  366]\n",
            " [ 152 1706]]\n",
            "\n",
            "\n",
            "XGBoost:\n",
            "Accuracy: 0.6362\n",
            "Precision: 0.6295\n",
            "Recall: 0.9080\n",
            "F1 Score: 0.7435\n",
            "Confusion Matrix:\n",
            "[[ 349  993]\n",
            " [ 171 1687]]\n"
          ]
        }
      ]
    },
    {
      "cell_type": "markdown",
      "source": [
        "# Cross-Validation"
      ],
      "metadata": {
        "id": "amNvTxuUrzx4"
      },
      "id": "amNvTxuUrzx4"
    },
    {
      "cell_type": "markdown",
      "source": [
        "(1) Lakukan cross-validation pada masing-masing model. (Terserah mau pake GSCV atau secara sequential)\n",
        "\n",
        "(2) Gunakan parameter yang diperoleh dari proses validasi untuk membuat model optimasi.\n",
        "\n",
        "(3) Bandingkan metrics evaluasi dengan model yang sebelumnya. Model mana yang mendapatkan performa terbaik? Berikan analisis kalian"
      ],
      "metadata": {
        "id": "Bk-wHHS6sclI"
      },
      "id": "Bk-wHHS6sclI"
    },
    {
      "cell_type": "code",
      "source": [
        "print(\"Number of features in X_train_encoded:\", X_train_encoded.shape[1])\n",
        "print(\"Number of features in X_test_encoded:\", X_test_encoded.shape[1])"
      ],
      "metadata": {
        "colab": {
          "base_uri": "https://localhost:8080/"
        },
        "id": "mHNzYpYxHXWr",
        "outputId": "899d4112-231f-46a1-c77b-f15bbaa315cb"
      },
      "id": "mHNzYpYxHXWr",
      "execution_count": 89,
      "outputs": [
        {
          "output_type": "stream",
          "name": "stdout",
          "text": [
            "Number of features in X_train_encoded: 661\n",
            "Number of features in X_test_encoded: 662\n"
          ]
        }
      ]
    },
    {
      "cell_type": "code",
      "source": [
        "# Convert NumPy arrays to Pandas DataFrame\n",
        "X_train_encoded_df = pd.DataFrame(X_train_encoded, columns=encoder.get_feature_names_out(['customer_city', 'product_category_name']))\n",
        "X_test_encoded_df = pd.DataFrame(X_test_encoded, columns=encoder.get_feature_names_out(['customer_city', 'product_category_name']))\n",
        "\n",
        "# Identify missing features\n",
        "missing_features = set(X_train_encoded_df.columns) - set(X_test_encoded_df.columns)\n",
        "\n",
        "# Handle missing features in the test set\n",
        "X_test_encoded_df = X_test_encoded_df.assign(**{feature: 0 for feature in missing_features})"
      ],
      "metadata": {
        "id": "hTFHSsYbHsB6"
      },
      "id": "hTFHSsYbHsB6",
      "execution_count": 90,
      "outputs": []
    },
    {
      "cell_type": "code",
      "source": [
        "# Identifikasi indeks fitur yang hilang pada X_train_encoded\n",
        "missing_features_train = np.setdiff1d(np.arange(X_test_encoded.shape[1]), np.arange(X_train_encoded.shape[1]))\n",
        "\n",
        "# Identifikasi indeks fitur yang hilang pada X_test_encoded\n",
        "missing_features_test = np.setdiff1d(np.arange(X_train_encoded.shape[1]), np.arange(X_test_encoded.shape[1]))\n",
        "\n",
        "# Handle fitur yang hilang pada X_train_encoded\n",
        "X_train_encoded = np.concatenate((X_train_encoded, np.zeros((X_train_encoded.shape[0], len(missing_features_train)))), axis=1)\n",
        "\n",
        "# Handle fitur yang hilang pada X_test_encoded\n",
        "X_test_encoded = np.concatenate((X_test_encoded, np.zeros((X_test_encoded.shape[0], len(missing_features_test)))), axis=1)"
      ],
      "metadata": {
        "id": "JT5Kwjl3LxES"
      },
      "id": "JT5Kwjl3LxES",
      "execution_count": 96,
      "outputs": []
    },
    {
      "cell_type": "code",
      "source": [
        "# Define a function for cross-validation\n",
        "def cross_validate_model(model, param_grid, X_train, y_train):\n",
        "    grid_search = GridSearchCV(model, param_grid, cv=5, scoring='accuracy', n_jobs=-1)\n",
        "    grid_search.fit(X_train, y_train)\n",
        "    return grid_search\n",
        "\n",
        "\n",
        "\n",
        "\n",
        "\n",
        "\n",
        "# XGBoost\n",
        "xgboost_param_grid = {'learning_rate': [0.01, 0.1, 0.2], 'max_depth': [3, 5, 7]}\n",
        "xgboost_grid_search = cross_validate_model(XGBClassifier(random_state=42), xgboost_param_grid, X_train_encoded, y_train)\n",
        "\n",
        "# Display the best hyperparameters for each model\n",
        "\n",
        "\n",
        "\n",
        "\n",
        "# Evaluate models with best parameters\n",
        "def evaluate_with_best_params(model, X_test, y_test):\n",
        "    y_pred = model.predict(X_test)\n",
        "    print(classification_report(y_test, y_pred))\n",
        "\n",
        "\n",
        "\n",
        "\n",
        "\n",
        "\n",
        "# Evaluate XGBoost\n",
        "print(\"\\nXGBoost - Test Set:\")\n",
        "evaluate_with_best_params(xgboost_grid_search.best_estimator_, X_test_encoded, y_test)"
      ],
      "metadata": {
        "colab": {
          "base_uri": "https://localhost:8080/"
        },
        "id": "S-JQ5Uu1GSjf",
        "outputId": "5372728b-8e66-4ee6-f7b7-5aed50cb87c2"
      },
      "id": "S-JQ5Uu1GSjf",
      "execution_count": 97,
      "outputs": [
        {
          "output_type": "stream",
          "name": "stdout",
          "text": [
            "\n",
            "XGBoost - Test Set:\n",
            "              precision    recall  f1-score   support\n",
            "\n",
            "           0       0.38      0.05      0.09       335\n",
            "           1       0.58      0.94      0.72       465\n",
            "\n",
            "    accuracy                           0.57       800\n",
            "   macro avg       0.48      0.50      0.41       800\n",
            "weighted avg       0.50      0.57      0.46       800\n",
            "\n"
          ]
        }
      ]
    },
    {
      "cell_type": "markdown",
      "source": [
        "# Testing Using No Label Data"
      ],
      "metadata": {
        "id": "O-bVZy-XxkIE"
      },
      "id": "O-bVZy-XxkIE"
    },
    {
      "cell_type": "markdown",
      "source": [
        "(1) Upload ecommerce_pengujian.csv\n",
        "\n",
        "(2) Gunakan  model terbaik yang diperoleh pada percobaan sebelumnya dan lakukan prediksi menggunakan model tersebut\n",
        "\n",
        "(3) Simpan hasil prediksi pada model tersebut kedalam bentuk csv\n",
        "\n",
        "(4) Upload hasil prediksi kedalam form submission"
      ],
      "metadata": {
        "id": "R4lf3ejhxxq4"
      },
      "id": "R4lf3ejhxxq4"
    },
    {
      "cell_type": "code",
      "source": [
        "xgboost_model = XGBClassifier(colsample_bytree=0.9, random_state=42)\n",
        "xgboost_model.fit(X_train_encoded, y_train)"
      ],
      "metadata": {
        "colab": {
          "base_uri": "https://localhost:8080/",
          "height": 268
        },
        "id": "903nxR4_Og_w",
        "outputId": "074e96f8-3f56-45f9-a40f-89a174245cd2"
      },
      "id": "903nxR4_Og_w",
      "execution_count": 102,
      "outputs": [
        {
          "output_type": "execute_result",
          "data": {
            "text/plain": [
              "XGBClassifier(base_score=None, booster=None, callbacks=None,\n",
              "              colsample_bylevel=None, colsample_bynode=None,\n",
              "              colsample_bytree=0.9, device=None, early_stopping_rounds=None,\n",
              "              enable_categorical=False, eval_metric=None, feature_types=None,\n",
              "              gamma=None, grow_policy=None, importance_type=None,\n",
              "              interaction_constraints=None, learning_rate=None, max_bin=None,\n",
              "              max_cat_threshold=None, max_cat_to_onehot=None,\n",
              "              max_delta_step=None, max_depth=None, max_leaves=None,\n",
              "              min_child_weight=None, missing=nan, monotone_constraints=None,\n",
              "              multi_strategy=None, n_estimators=None, n_jobs=None,\n",
              "              num_parallel_tree=None, random_state=42, ...)"
            ],
            "text/html": [
              "<style>#sk-container-id-2 {color: black;background-color: white;}#sk-container-id-2 pre{padding: 0;}#sk-container-id-2 div.sk-toggleable {background-color: white;}#sk-container-id-2 label.sk-toggleable__label {cursor: pointer;display: block;width: 100%;margin-bottom: 0;padding: 0.3em;box-sizing: border-box;text-align: center;}#sk-container-id-2 label.sk-toggleable__label-arrow:before {content: \"▸\";float: left;margin-right: 0.25em;color: #696969;}#sk-container-id-2 label.sk-toggleable__label-arrow:hover:before {color: black;}#sk-container-id-2 div.sk-estimator:hover label.sk-toggleable__label-arrow:before {color: black;}#sk-container-id-2 div.sk-toggleable__content {max-height: 0;max-width: 0;overflow: hidden;text-align: left;background-color: #f0f8ff;}#sk-container-id-2 div.sk-toggleable__content pre {margin: 0.2em;color: black;border-radius: 0.25em;background-color: #f0f8ff;}#sk-container-id-2 input.sk-toggleable__control:checked~div.sk-toggleable__content {max-height: 200px;max-width: 100%;overflow: auto;}#sk-container-id-2 input.sk-toggleable__control:checked~label.sk-toggleable__label-arrow:before {content: \"▾\";}#sk-container-id-2 div.sk-estimator input.sk-toggleable__control:checked~label.sk-toggleable__label {background-color: #d4ebff;}#sk-container-id-2 div.sk-label input.sk-toggleable__control:checked~label.sk-toggleable__label {background-color: #d4ebff;}#sk-container-id-2 input.sk-hidden--visually {border: 0;clip: rect(1px 1px 1px 1px);clip: rect(1px, 1px, 1px, 1px);height: 1px;margin: -1px;overflow: hidden;padding: 0;position: absolute;width: 1px;}#sk-container-id-2 div.sk-estimator {font-family: monospace;background-color: #f0f8ff;border: 1px dotted black;border-radius: 0.25em;box-sizing: border-box;margin-bottom: 0.5em;}#sk-container-id-2 div.sk-estimator:hover {background-color: #d4ebff;}#sk-container-id-2 div.sk-parallel-item::after {content: \"\";width: 100%;border-bottom: 1px solid gray;flex-grow: 1;}#sk-container-id-2 div.sk-label:hover label.sk-toggleable__label {background-color: #d4ebff;}#sk-container-id-2 div.sk-serial::before {content: \"\";position: absolute;border-left: 1px solid gray;box-sizing: border-box;top: 0;bottom: 0;left: 50%;z-index: 0;}#sk-container-id-2 div.sk-serial {display: flex;flex-direction: column;align-items: center;background-color: white;padding-right: 0.2em;padding-left: 0.2em;position: relative;}#sk-container-id-2 div.sk-item {position: relative;z-index: 1;}#sk-container-id-2 div.sk-parallel {display: flex;align-items: stretch;justify-content: center;background-color: white;position: relative;}#sk-container-id-2 div.sk-item::before, #sk-container-id-2 div.sk-parallel-item::before {content: \"\";position: absolute;border-left: 1px solid gray;box-sizing: border-box;top: 0;bottom: 0;left: 50%;z-index: -1;}#sk-container-id-2 div.sk-parallel-item {display: flex;flex-direction: column;z-index: 1;position: relative;background-color: white;}#sk-container-id-2 div.sk-parallel-item:first-child::after {align-self: flex-end;width: 50%;}#sk-container-id-2 div.sk-parallel-item:last-child::after {align-self: flex-start;width: 50%;}#sk-container-id-2 div.sk-parallel-item:only-child::after {width: 0;}#sk-container-id-2 div.sk-dashed-wrapped {border: 1px dashed gray;margin: 0 0.4em 0.5em 0.4em;box-sizing: border-box;padding-bottom: 0.4em;background-color: white;}#sk-container-id-2 div.sk-label label {font-family: monospace;font-weight: bold;display: inline-block;line-height: 1.2em;}#sk-container-id-2 div.sk-label-container {text-align: center;}#sk-container-id-2 div.sk-container {/* jupyter's `normalize.less` sets `[hidden] { display: none; }` but bootstrap.min.css set `[hidden] { display: none !important; }` so we also need the `!important` here to be able to override the default hidden behavior on the sphinx rendered scikit-learn.org. See: https://github.com/scikit-learn/scikit-learn/issues/21755 */display: inline-block !important;position: relative;}#sk-container-id-2 div.sk-text-repr-fallback {display: none;}</style><div id=\"sk-container-id-2\" class=\"sk-top-container\"><div class=\"sk-text-repr-fallback\"><pre>XGBClassifier(base_score=None, booster=None, callbacks=None,\n",
              "              colsample_bylevel=None, colsample_bynode=None,\n",
              "              colsample_bytree=0.9, device=None, early_stopping_rounds=None,\n",
              "              enable_categorical=False, eval_metric=None, feature_types=None,\n",
              "              gamma=None, grow_policy=None, importance_type=None,\n",
              "              interaction_constraints=None, learning_rate=None, max_bin=None,\n",
              "              max_cat_threshold=None, max_cat_to_onehot=None,\n",
              "              max_delta_step=None, max_depth=None, max_leaves=None,\n",
              "              min_child_weight=None, missing=nan, monotone_constraints=None,\n",
              "              multi_strategy=None, n_estimators=None, n_jobs=None,\n",
              "              num_parallel_tree=None, random_state=42, ...)</pre><b>In a Jupyter environment, please rerun this cell to show the HTML representation or trust the notebook. <br />On GitHub, the HTML representation is unable to render, please try loading this page with nbviewer.org.</b></div><div class=\"sk-container\" hidden><div class=\"sk-item\"><div class=\"sk-estimator sk-toggleable\"><input class=\"sk-toggleable__control sk-hidden--visually\" id=\"sk-estimator-id-2\" type=\"checkbox\" checked><label for=\"sk-estimator-id-2\" class=\"sk-toggleable__label sk-toggleable__label-arrow\">XGBClassifier</label><div class=\"sk-toggleable__content\"><pre>XGBClassifier(base_score=None, booster=None, callbacks=None,\n",
              "              colsample_bylevel=None, colsample_bynode=None,\n",
              "              colsample_bytree=0.9, device=None, early_stopping_rounds=None,\n",
              "              enable_categorical=False, eval_metric=None, feature_types=None,\n",
              "              gamma=None, grow_policy=None, importance_type=None,\n",
              "              interaction_constraints=None, learning_rate=None, max_bin=None,\n",
              "              max_cat_threshold=None, max_cat_to_onehot=None,\n",
              "              max_delta_step=None, max_depth=None, max_leaves=None,\n",
              "              min_child_weight=None, missing=nan, monotone_constraints=None,\n",
              "              multi_strategy=None, n_estimators=None, n_jobs=None,\n",
              "              num_parallel_tree=None, random_state=42, ...)</pre></div></div></div></div></div>"
            ]
          },
          "metadata": {},
          "execution_count": 102
        }
      ]
    },
    {
      "cell_type": "code",
      "source": [
        "# Menggunakan model XGBoost untuk prediksi pada df test\n",
        "hasil_prediksi_test = xgboost_model.predict(X_test_encoded)  # Ganti X_test_encoded dengan df test Anda"
      ],
      "metadata": {
        "id": "U4PlQnirMlcg"
      },
      "id": "U4PlQnirMlcg",
      "execution_count": 105,
      "outputs": []
    },
    {
      "cell_type": "code",
      "source": [
        "# Create a new DataFrame with the predictions\n",
        "result_df = pd.DataFrame({'Prediction': hasil_prediksi_test})"
      ],
      "metadata": {
        "id": "AdpRKVKPRA1-"
      },
      "id": "AdpRKVKPRA1-",
      "execution_count": 107,
      "outputs": []
    },
    {
      "cell_type": "code",
      "source": [
        "# Save the DataFrame to a CSV file\n",
        "result_df.to_csv('predictions.csv', index=False)"
      ],
      "metadata": {
        "id": "yF5ALMWvRCU5"
      },
      "id": "yF5ALMWvRCU5",
      "execution_count": 108,
      "outputs": []
    }
  ],
  "metadata": {
    "kernelspec": {
      "display_name": "Python 3 (ipykernel)",
      "language": "python",
      "name": "python3"
    },
    "language_info": {
      "codemirror_mode": {
        "name": "ipython",
        "version": 3
      },
      "file_extension": ".py",
      "mimetype": "text/x-python",
      "name": "python",
      "nbconvert_exporter": "python",
      "pygments_lexer": "ipython3",
      "version": "3.9.11"
    },
    "colab": {
      "provenance": [],
      "include_colab_link": true
    }
  },
  "nbformat": 4,
  "nbformat_minor": 5
}