{
  "cells": [
    {
      "cell_type": "markdown",
      "metadata": {
        "id": "9WBfGJMhSSf7"
      },
      "source": [
        "Import library yang dibutuhkan"
      ],
      "id": "9WBfGJMhSSf7"
    },
    {
      "cell_type": "code",
      "execution_count": 1,
      "metadata": {
        "id": "a114b833-49b6-4dc3-9283-8b4d95dbf335"
      },
      "outputs": [],
      "source": [
        "import numpy as np\n",
        "import pandas as pd\n",
        "import matplotlib.pyplot as plt\n",
        "import seaborn as sns\n",
        "from sklearn.preprocessing import OrdinalEncoder, OneHotEncoder, RobustScaler, StandardScaler\n",
        "from sklearn.impute import KNNImputer\n",
        "from sklearn.model_selection import train_test_split, GridSearchCV, cross_validate\n",
        "from sklearn.linear_model import LogisticRegression\n",
        "from sklearn.metrics import classification_report, roc_curve, precision_recall_curve\n",
        "from sklearn.tree import DecisionTreeClassifier\n",
        "from sklearn.ensemble import RandomForestClassifier\n",
        "from scipy.stats import spearmanr\n",
        "from sklearn.feature_selection import mutual_info_classif\n",
        "import warnings\n",
        "warnings.filterwarnings('ignore')\n",
        "pd.set_option(\"display.max_columns\", None)"
      ],
      "id": "a114b833-49b6-4dc3-9283-8b4d95dbf335"
    },
    {
      "cell_type": "markdown",
      "metadata": {
        "id": "hUVFblEiSWm_"
      },
      "source": [
        "akses ke google drive"
      ],
      "id": "hUVFblEiSWm_"
    },
    {
      "cell_type": "code",
      "execution_count": 2,
      "metadata": {
        "colab": {
          "base_uri": "https://localhost:8080/"
        },
        "id": "2b7095d9-7101-4eab-a4fb-dd71aaddfb42",
        "outputId": "0fb1b9e3-8975-4633-fc90-bbf26076dafd"
      },
      "outputs": [
        {
          "output_type": "stream",
          "name": "stdout",
          "text": [
            "Mounted at /drive/\n"
          ]
        }
      ],
      "source": [
        "from google.colab import drive\n",
        "drive.mount('/drive/', force_remount=True)"
      ],
      "id": "2b7095d9-7101-4eab-a4fb-dd71aaddfb42"
    },
    {
      "cell_type": "markdown",
      "metadata": {
        "id": "_oEk07ipR0lb"
      },
      "source": [
        "(1) Download dataset pada link :\n",
        "\n",
        "(2) Upload di drive masing-masing"
      ],
      "id": "_oEk07ipR0lb"
    },
    {
      "cell_type": "markdown",
      "metadata": {
        "id": "0e9fc006-0037-4401-a65a-9dcf11adedc8"
      },
      "source": [
        "(3) gunakan data churn_bank.csv, drop kolom yang tidak dibutuhkan.\n",
        "\n",
        "(4) Define target/output = \"churn\", feature/input kolom lainnya\n",
        "\n",
        "(5) Split data menjadi training set dan test set (test_size = 0.2) dengan stratify pada kolom **churn**\n",
        "\n",
        "(6) print shape pada X_train, X_test, y_train, dan y_test"
      ],
      "id": "0e9fc006-0037-4401-a65a-9dcf11adedc8"
    },
    {
      "cell_type": "code",
      "execution_count": 3,
      "metadata": {
        "id": "8Hpyrwjvmykm"
      },
      "outputs": [],
      "source": [
        "file_path = '/drive/MyDrive/Colab Notebooks/churn_bank.csv'"
      ],
      "id": "8Hpyrwjvmykm"
    },
    {
      "cell_type": "code",
      "execution_count": 4,
      "metadata": {
        "id": "F1fKvEhilaNu"
      },
      "outputs": [],
      "source": [
        "df = pd.read_csv(file_path)"
      ],
      "id": "F1fKvEhilaNu"
    },
    {
      "cell_type": "code",
      "execution_count": 5,
      "metadata": {
        "id": "mcrt5l8tWjOQ"
      },
      "outputs": [],
      "source": [
        "df = df.drop('customer_id', axis=1)"
      ],
      "id": "mcrt5l8tWjOQ"
    },
    {
      "cell_type": "code",
      "execution_count": 6,
      "metadata": {
        "colab": {
          "base_uri": "https://localhost:8080/"
        },
        "id": "grLmAOSLnFKS",
        "outputId": "9c3860af-1de9-435f-b83b-1e99ecd8031b"
      },
      "outputs": [
        {
          "output_type": "stream",
          "name": "stdout",
          "text": [
            "   credit_score country  gender  age  tenure    balance  products_number  \\\n",
            "0           619  France  Female   42       2       0.00                1   \n",
            "1           608   Spain  Female   41       1   83807.86                1   \n",
            "2           502  France  Female   42       8  159660.80                3   \n",
            "3           699  France  Female   39       1       0.00                2   \n",
            "4           850   Spain  Female   43       2  125510.82                1   \n",
            "\n",
            "   credit_card  active_member  estimated_salary  churn  \n",
            "0            1              1         101348.88      1  \n",
            "1            0              1         112542.58      0  \n",
            "2            1              0         113931.57      1  \n",
            "3            0              0          93826.63      0  \n",
            "4            1              1          79084.10      0  \n"
          ]
        }
      ],
      "source": [
        "print(df.head())"
      ],
      "id": "grLmAOSLnFKS"
    },
    {
      "cell_type": "code",
      "execution_count": 7,
      "metadata": {
        "colab": {
          "base_uri": "https://localhost:8080/"
        },
        "id": "-4UMxeTXImCn",
        "outputId": "45cfd11c-ae63-48d9-8749-628e6b8350ed"
      },
      "outputs": [
        {
          "output_type": "stream",
          "name": "stdout",
          "text": [
            "Fitur (X):\n",
            "   credit_score country  gender  age  tenure    balance  products_number  \\\n",
            "0           619  France  Female   42       2       0.00                1   \n",
            "1           608   Spain  Female   41       1   83807.86                1   \n",
            "2           502  France  Female   42       8  159660.80                3   \n",
            "3           699  France  Female   39       1       0.00                2   \n",
            "4           850   Spain  Female   43       2  125510.82                1   \n",
            "\n",
            "   credit_card  active_member  estimated_salary  \n",
            "0            1              1         101348.88  \n",
            "1            0              1         112542.58  \n",
            "2            1              0         113931.57  \n",
            "3            0              0          93826.63  \n",
            "4            1              1          79084.10  \n",
            "\n",
            "Target (y):\n",
            "0    1\n",
            "1    0\n",
            "2    1\n",
            "3    0\n",
            "4    0\n",
            "Name: churn, dtype: int64\n"
          ]
        }
      ],
      "source": [
        "#Memisahkan fitur (X) dan target (y)\n",
        "#Menghilangkan kolom 'churn' dari fitur\n",
        "X = df.drop('churn', axis=1)\n",
        "#Menggunakan hanya kolom 'churn' sebagai target\n",
        "y = df['churn']\n",
        "# Menampilkan beberapa baris pertama dari fitur\n",
        "print(\"Fitur (X):\")\n",
        "print(X.head())\n",
        "# Menampilkan beberapa baris pertama dari target\n",
        "print(\"\\nTarget (y):\")\n",
        "print(y.head())"
      ],
      "id": "-4UMxeTXImCn"
    },
    {
      "cell_type": "code",
      "execution_count": 8,
      "metadata": {
        "colab": {
          "base_uri": "https://localhost:8080/"
        },
        "id": "33jeL9fbKnxV",
        "outputId": "8b50f4c0-8e22-4435-a348-0b2823a48fcb"
      },
      "outputs": [
        {
          "output_type": "stream",
          "name": "stdout",
          "text": [
            "Bentuk (shape) dari X_train: (8000, 10)\n",
            "Bentuk (shape) dari X_test: (2000, 10)\n",
            "Bentuk (shape) dari y_train: (8000,)\n",
            "Bentuk (shape) dari y_test: (2000,)\n"
          ]
        }
      ],
      "source": [
        "# Memisahkan data menjadi train set dan test set (test_size = 0.2) dengan stratify pada kolom 'churn'\n",
        "X_train, X_test, y_train, y_test = train_test_split(X, y, test_size=0.2, stratify=y, random_state=42)\n",
        "\n",
        "# Menampilkan bentuk (shape) dari X_train, X_test, y_train, dan y_test\n",
        "print(\"Bentuk (shape) dari X_train:\", X_train.shape)\n",
        "print(\"Bentuk (shape) dari X_test:\", X_test.shape)\n",
        "print(\"Bentuk (shape) dari y_train:\", y_train.shape)\n",
        "print(\"Bentuk (shape) dari y_test:\", y_test.shape)"
      ],
      "id": "33jeL9fbKnxV"
    },
    {
      "cell_type": "markdown",
      "metadata": {
        "id": "PnwrtMdxr6bN"
      },
      "source": [
        "# Imbalance Data Handling"
      ],
      "id": "PnwrtMdxr6bN"
    },
    {
      "cell_type": "markdown",
      "metadata": {
        "id": "8BaXMWuNo-3b"
      },
      "source": [
        "(1) Cek nilai sebaran output/target\n",
        "\n",
        "(2) lakukan imbalance data handling (oversampling atau undersampling)\n",
        "\n",
        "(3) fit_resample dan dapatkan dataset baru yang dengan nilai output yang balance"
      ],
      "id": "8BaXMWuNo-3b"
    },
    {
      "cell_type": "code",
      "execution_count": 9,
      "metadata": {
        "colab": {
          "base_uri": "https://localhost:8080/"
        },
        "id": "9hpU30ooLlzr",
        "outputId": "c73cc903-2459-434d-d038-7b49d6d8068a"
      },
      "outputs": [
        {
          "output_type": "stream",
          "name": "stdout",
          "text": [
            "Sebaran nilai output/target (churn):\n",
            "0    7963\n",
            "1    2037\n",
            "Name: churn, dtype: int64\n"
          ]
        }
      ],
      "source": [
        "# Melihat sebaran nilai output/target (churn)\n",
        "print(\"Sebaran nilai output/target (churn):\")\n",
        "print(y.value_counts())"
      ],
      "id": "9hpU30ooLlzr"
    },
    {
      "cell_type": "code",
      "execution_count": 10,
      "metadata": {
        "id": "22S0firJNeby"
      },
      "outputs": [],
      "source": [
        "# Melakukan One-Hot Encoding pada kolom 'country' dan 'gender'\n",
        "X_train_encoded = pd.get_dummies(X_train, columns=['country', 'gender'])"
      ],
      "id": "22S0firJNeby"
    },
    {
      "cell_type": "code",
      "execution_count": 11,
      "metadata": {
        "colab": {
          "base_uri": "https://localhost:8080/"
        },
        "id": "7Hqhhyp9OGMj",
        "outputId": "dad497cd-74f9-4557-8d15-0a68651bf19b"
      },
      "outputs": [
        {
          "output_type": "stream",
          "name": "stdout",
          "text": [
            "Bentuk (shape) dari X_train_balanced: (12740, 13)\n",
            "Bentuk (shape) dari y_train_balanced: (12740,)\n"
          ]
        }
      ],
      "source": [
        "from imblearn.over_sampling import SMOTE\n",
        "\n",
        "# Membuat objek SMOTE\n",
        "smote = SMOTE(random_state=42)\n",
        "\n",
        "# Melakukan oversampling pada X_train dan y_train\n",
        "X_train_balanced, y_train_balanced = smote.fit_resample(X_train_encoded, y_train)\n",
        "\n",
        "# Melihat bentuk (shape) dari X_train_balanced dan y_train_balanced\n",
        "print(\"Bentuk (shape) dari X_train_balanced:\", X_train_balanced.shape)\n",
        "print(\"Bentuk (shape) dari y_train_balanced:\", y_train_balanced.shape)"
      ],
      "id": "7Hqhhyp9OGMj"
    },
    {
      "cell_type": "markdown",
      "metadata": {
        "id": "07c107d8-9fd8-4779-8a7c-f800700979b0"
      },
      "source": [
        "# Imputation"
      ],
      "id": "07c107d8-9fd8-4779-8a7c-f800700979b0"
    },
    {
      "cell_type": "markdown",
      "metadata": {
        "id": "aFul82rhT98h"
      },
      "source": [
        "(1) Cek missing value pada x_train\n",
        "\n",
        "(2) lakukan imputation dengan menggunakan KNNImputer (jika perlu)"
      ],
      "id": "aFul82rhT98h"
    },
    {
      "cell_type": "code",
      "execution_count": 12,
      "metadata": {
        "colab": {
          "base_uri": "https://localhost:8080/"
        },
        "id": "NXGvj8gJPf8s",
        "outputId": "55035810-c810-4e57-aadb-e43b53f6565a"
      },
      "outputs": [
        {
          "output_type": "stream",
          "name": "stdout",
          "text": [
            "Jumlah Missing Value pada Setiap Kolom:\n",
            "credit_score        0\n",
            "country             0\n",
            "gender              0\n",
            "age                 0\n",
            "tenure              0\n",
            "balance             0\n",
            "products_number     0\n",
            "credit_card         0\n",
            "active_member       0\n",
            "estimated_salary    0\n",
            "dtype: int64\n"
          ]
        }
      ],
      "source": [
        "# Cek missing value pada X_train\n",
        "missing_values = X_train.isnull().sum()\n",
        "print(\"Jumlah Missing Value pada Setiap Kolom:\")\n",
        "print(missing_values)"
      ],
      "id": "NXGvj8gJPf8s"
    },
    {
      "cell_type": "code",
      "execution_count": 13,
      "metadata": {
        "id": "JoBkLr2VQHh8"
      },
      "outputs": [],
      "source": [
        "# Melakukan One-Hot Encoding pada kolom 'country' dan 'gender'\n",
        "X_train_encoded = pd.get_dummies(X_train, columns=['country', 'gender'])"
      ],
      "id": "JoBkLr2VQHh8"
    },
    {
      "cell_type": "code",
      "execution_count": 14,
      "metadata": {
        "colab": {
          "base_uri": "https://localhost:8080/"
        },
        "id": "pT9LuewBPhvZ",
        "outputId": "3554b9ad-e98b-4f9f-b5a1-dde86d2b6313"
      },
      "outputs": [
        {
          "output_type": "stream",
          "name": "stdout",
          "text": [
            "Jumlah Missing Value pada X_train setelah Imputasi:\n",
            "credit_score        0\n",
            "age                 0\n",
            "tenure              0\n",
            "balance             0\n",
            "products_number     0\n",
            "credit_card         0\n",
            "active_member       0\n",
            "estimated_salary    0\n",
            "country_France      0\n",
            "country_Germany     0\n",
            "country_Spain       0\n",
            "gender_Female       0\n",
            "gender_Male         0\n",
            "dtype: int64\n"
          ]
        }
      ],
      "source": [
        "from sklearn.impute import KNNImputer\n",
        "\n",
        "# Membuat objek KNNImputer\n",
        "imputer = KNNImputer(n_neighbors=5)\n",
        "\n",
        "# Melakukan imputasi pada X_train_encoded (yang sudah diencode) jika ada missing value\n",
        "X_train_imputed = imputer.fit_transform(X_train_encoded)\n",
        "\n",
        "# Mengonversi kembali hasil imputasi ke dalam DataFrame (jika diperlukan)\n",
        "X_train_imputed = pd.DataFrame(X_train_imputed, columns=X_train_encoded.columns)\n",
        "\n",
        "# Verifikasi apakah masih ada missing value setelah imputasi\n",
        "print(\"Jumlah Missing Value pada X_train setelah Imputasi:\")\n",
        "print(X_train_imputed.isnull().sum())"
      ],
      "id": "pT9LuewBPhvZ"
    },
    {
      "cell_type": "markdown",
      "metadata": {
        "id": "cfcbf1b2-c1bb-46e0-878c-44377292e85b"
      },
      "source": [
        "# Transformation"
      ],
      "id": "cfcbf1b2-c1bb-46e0-878c-44377292e85b"
    },
    {
      "cell_type": "markdown",
      "metadata": {
        "id": "LigLRhTwUPJs"
      },
      "source": [
        "(1) Lakukan transformation :\n",
        "- data number pake scalling\n",
        "- data categorical pake OHE\n",
        "\n",
        "(2) Pada kolom kategorikal X_train lakukan OHE pada parameter handle_unknown beri argumen 'ignore' agar encoder robust terhadap adanya kategori di testing set yang tidak ada di training set."
      ],
      "id": "LigLRhTwUPJs"
    },
    {
      "cell_type": "code",
      "execution_count": 15,
      "metadata": {
        "id": "M0PNjCSbQrzK"
      },
      "outputs": [],
      "source": [
        "\n",
        "# Inisialisasi objek StandardScaler\n",
        "scaler = StandardScaler()\n",
        "\n",
        "# Memilih kolom-kolom numerik pada X_train\n",
        "X_train_numeric = X_train[['credit_score', 'age', 'tenure', 'balance', 'products_number','estimated_salary']]\n",
        "\n",
        "# Melakukan scaling pada data numerik\n",
        "X_train_numeric_scaled = scaler.fit_transform(X_train_numeric)"
      ],
      "id": "M0PNjCSbQrzK"
    },
    {
      "cell_type": "code",
      "execution_count": 16,
      "metadata": {
        "id": "-SymciG8SBFW"
      },
      "outputs": [],
      "source": [
        "# One-Hot Encoding pada data kategorikal\n",
        "X_train_categorical = X_train[['country', 'gender']]\n",
        "\n",
        "# Melakukan One-Hot Encoding pada kolom kategorikal dengan handle_unknown='ignore'\n",
        "encoder = OneHotEncoder(handle_unknown='ignore')\n",
        "X_train_categorical_encoded = encoder.fit_transform(X_train_categorical).toarray()\n",
        "\n",
        "# Mengonversi hasil encoding ke dalam DataFrame (jika diperlukan)\n",
        "X_train_categorical_encoded_df = pd.DataFrame(X_train_categorical_encoded, columns=encoder.get_feature_names_out(X_train_categorical.columns))"
      ],
      "id": "-SymciG8SBFW"
    },
    {
      "cell_type": "code",
      "execution_count": 17,
      "metadata": {
        "colab": {
          "base_uri": "https://localhost:8080/"
        },
        "id": "mgcCdFJ0Sy6a",
        "outputId": "1b38bde6-25eb-45fe-8161-b531a97b9f4c"
      },
      "outputs": [
        {
          "output_type": "stream",
          "name": "stdout",
          "text": [
            "   country_France  country_Germany  country_Spain  gender_Female  gender_Male\n",
            "0             1.0              0.0            0.0            0.0          1.0\n",
            "1             0.0              1.0            0.0            0.0          1.0\n",
            "2             0.0              1.0            0.0            1.0          0.0\n",
            "3             1.0              0.0            0.0            0.0          1.0\n",
            "4             0.0              1.0            0.0            0.0          1.0\n"
          ]
        }
      ],
      "source": [
        "from sklearn.preprocessing import OneHotEncoder\n",
        "\n",
        "# Inisialisasi objek OneHotEncoder dengan handle_unknown='ignore'\n",
        "encoder = OneHotEncoder(handle_unknown='ignore')\n",
        "\n",
        "# Memilih kolom kategorikal pada X_train untuk diencode\n",
        "X_train_categorical_subset = X_train[['country', 'gender']]\n",
        "\n",
        "# Melakukan One-Hot Encoding dengan handle_unknown='ignore' pada kolom kategorikal\n",
        "X_train_categorical_encoded = encoder.fit_transform(X_train_categorical_subset).toarray()\n",
        "\n",
        "# Memeriksa hasil encoding\n",
        "print(X_train_categorical_encoded_df.head())"
      ],
      "id": "mgcCdFJ0Sy6a"
    },
    {
      "cell_type": "markdown",
      "metadata": {
        "id": "e86ed5cb-d07c-46cc-8332-10d1139aa1e3"
      },
      "source": [
        "# Feature Selection"
      ],
      "id": "e86ed5cb-d07c-46cc-8332-10d1139aa1e3"
    },
    {
      "cell_type": "markdown",
      "metadata": {
        "id": "22P6RmQwWVbc"
      },
      "source": [
        "(1) Lakukan feature selection menggunakan multicolinearity reduction dan mutual info."
      ],
      "id": "22P6RmQwWVbc"
    },
    {
      "cell_type": "code",
      "execution_count": 18,
      "metadata": {
        "colab": {
          "base_uri": "https://localhost:8080/"
        },
        "id": "q16GOu-PTbU3",
        "outputId": "a56438f3-6862-482e-ec26-4b76181d1072"
      },
      "outputs": [
        {
          "output_type": "stream",
          "name": "stdout",
          "text": [
            "             Feature       VIF\n",
            "0       credit_score  1.001041\n",
            "1                age  1.012386\n",
            "2             tenure  1.002479\n",
            "3            balance  1.337182\n",
            "4    products_number  1.125593\n",
            "5        credit_card  1.001757\n",
            "6      active_member  1.010647\n",
            "7   estimated_salary  1.001499\n",
            "8     country_France       inf\n",
            "9    country_Germany       inf\n",
            "10     country_Spain       inf\n",
            "11     gender_Female       inf\n",
            "12       gender_Male       inf\n"
          ]
        }
      ],
      "source": [
        "from statsmodels.stats.outliers_influence import variance_inflation_factor\n",
        "\n",
        "# Melakukan One-Hot Encoding pada kolom-kolom kategorikal di X_train\n",
        "X_train_encoded = pd.get_dummies(X_train, columns=['country', 'gender'])\n",
        "\n",
        "# Menghitung VIF untuk setiap variabel\n",
        "vif = pd.DataFrame()\n",
        "vif[\"Feature\"] = X_train_encoded.columns\n",
        "vif[\"VIF\"] = [variance_inflation_factor(X_train_encoded.values, i) for i in range(X_train_encoded.shape[1])]\n",
        "\n",
        "# Menampilkan hasil VIF\n",
        "print(vif)"
      ],
      "id": "q16GOu-PTbU3"
    },
    {
      "cell_type": "code",
      "execution_count": 19,
      "metadata": {
        "id": "dH5Gwi4lVO_N"
      },
      "outputs": [],
      "source": [
        "from statsmodels.stats.outliers_influence import variance_inflation_factor\n",
        "\n",
        "# Menghitung VIF untuk setiap variabel numerik\n",
        "vif = pd.DataFrame()\n",
        "vif[\"Feature\"] = X_train_numeric.columns\n",
        "vif[\"VIF\"] = [variance_inflation_factor(X_train_numeric.values, i) for i in range(X_train_numeric.shape[1])]\n",
        "\n",
        "# Pilih fitur dengan VIF rendah\n",
        "selected_features_vif = vif[vif[\"VIF\"] < 10][\"Feature\"]\n",
        "\n",
        "# X_train setelah multicollinearity reduction\n",
        "X_train_vif = X_train_numeric[selected_features_vif]"
      ],
      "id": "dH5Gwi4lVO_N"
    },
    {
      "cell_type": "code",
      "execution_count": 20,
      "metadata": {
        "id": "dZoXlG3b60TA"
      },
      "outputs": [],
      "source": [
        "\n",
        "from sklearn.feature_selection import SelectKBest, mutual_info_classif"
      ],
      "id": "dZoXlG3b60TA"
    },
    {
      "cell_type": "code",
      "execution_count": 21,
      "metadata": {
        "id": "TdMHaJwDVRyy"
      },
      "outputs": [],
      "source": [
        "\n",
        "from sklearn.compose import ColumnTransformer\n",
        "\n",
        "# Mengidentifikasi kolom-kolom kategorikal\n",
        "categorical_cols = ['country', 'gender']\n",
        "\n",
        "# Menggunakan ColumnTransformer untuk melakukan One-Hot Encoding pada kolom kategorikal\n",
        "preprocessor = ColumnTransformer(transformers=[('cat', OneHotEncoder(), categorical_cols)],\n",
        "                               remainder='passthrough')\n",
        "\n",
        "# Melakukan transformasi pada X_train\n",
        "X_train_encoded = preprocessor.fit_transform(X_train)\n",
        "\n",
        "# Menggunakan mutual information untuk memilih fitur terbaik setelah One-Hot Encoding\n",
        "selector = SelectKBest(score_func=mutual_info_classif, k='all')\n",
        "X_train_mi = selector.fit_transform(X_train_encoded, y_train)\n",
        "\n",
        "# Mendapatkan indeks fitur terbaik\n",
        "selected_features_mi_indices = selector.get_support(indices=True)\n",
        "\n",
        "# Memilih fitur dari X_train_encoded menggunakan indeks fitur terbaik\n",
        "X_train_mi = X_train_encoded[:, selected_features_mi_indices]"
      ],
      "id": "TdMHaJwDVRyy"
    },
    {
      "cell_type": "markdown",
      "metadata": {
        "id": "cmyqseirrwaP"
      },
      "source": [
        "# Modelling"
      ],
      "id": "cmyqseirrwaP"
    },
    {
      "cell_type": "markdown",
      "metadata": {
        "id": "wUFZqRzusBL3"
      },
      "source": [
        "(1) Buatlah model Linear Regression, Decision Tree, Random Forest, dan XGBoost\n",
        "\n",
        "(2) Lakukan fitting untuk training dataset\n",
        "\n",
        "(3) Buat sebuah function classif yang bisa mencetak nilai metrics evaluation\n",
        "\n",
        "(4) Lakukan evaluasi pada masing-masing model"
      ],
      "id": "wUFZqRzusBL3"
    },
    {
      "cell_type": "code",
      "execution_count": 22,
      "metadata": {
        "id": "YzfJw-nU4-Fc"
      },
      "outputs": [],
      "source": [
        "\n",
        "from xgboost import XGBClassifier"
      ],
      "id": "YzfJw-nU4-Fc"
    },
    {
      "cell_type": "code",
      "execution_count": 23,
      "metadata": {
        "id": "CYEKHbJz5idz"
      },
      "outputs": [],
      "source": [
        "# Tentukan model Logistic Regression\n",
        "logreg_model = LogisticRegression()\n"
      ],
      "id": "CYEKHbJz5idz"
    },
    {
      "cell_type": "code",
      "execution_count": 24,
      "metadata": {
        "id": "WKtHM7cb6Gbd"
      },
      "outputs": [],
      "source": [
        "from sklearn.pipeline import Pipeline"
      ],
      "id": "WKtHM7cb6Gbd"
    },
    {
      "cell_type": "code",
      "execution_count": 25,
      "metadata": {
        "id": "1HNIuSvo5mnF"
      },
      "outputs": [],
      "source": [
        "# Gabungkan preprocessor dan model ke dalam Pipeline\n",
        "pipeline = Pipeline(steps=[('preprocessor', preprocessor),\n",
        "                           ('classifier', logreg_model)])\n"
      ],
      "id": "1HNIuSvo5mnF"
    },
    {
      "cell_type": "code",
      "execution_count": 26,
      "metadata": {
        "id": "cY0ka1766qZM"
      },
      "outputs": [],
      "source": [
        "# Tentukan parameter grid untuk Grid Search\n",
        "param_grid = {\n",
        "    'preprocessor__cat__onehot__drop': [None, 'first'],\n",
        "    'classifier__C': [0.1, 1, 10, 100]\n",
        "}"
      ],
      "id": "cY0ka1766qZM"
    },
    {
      "cell_type": "code",
      "execution_count": 72,
      "metadata": {
        "colab": {
          "base_uri": "https://localhost:8080/",
          "height": 218
        },
        "id": "PNrIfiaw7ATQ",
        "outputId": "48e3e002-f383-4883-970a-f15cd47b7dac"
      },
      "outputs": [
        {
          "output_type": "execute_result",
          "data": {
            "text/plain": [
              "GridSearchCV(cv=5,\n",
              "             estimator=Pipeline(steps=[('preprocessor',\n",
              "                                        ColumnTransformer(remainder='passthrough',\n",
              "                                                          transformers=[('cat',\n",
              "                                                                         Pipeline(steps=[('onehot',\n",
              "                                                                                          OneHotEncoder(handle_unknown='ignore'))]),\n",
              "                                                                         ['country',\n",
              "                                                                          'gender'])])),\n",
              "                                       ('classifier',\n",
              "                                        RandomForestClassifier(random_state=42))]),\n",
              "             param_grid={'classifier__max_depth': [10, 20, 30],\n",
              "                         'classifier__min_samples_split': [2, 5, 10],\n",
              "                         'classifier__n_estimators': [100, 200, 300]},\n",
              "             scoring='accuracy')"
            ],
            "text/html": [
              "<style>#sk-container-id-6 {color: black;background-color: white;}#sk-container-id-6 pre{padding: 0;}#sk-container-id-6 div.sk-toggleable {background-color: white;}#sk-container-id-6 label.sk-toggleable__label {cursor: pointer;display: block;width: 100%;margin-bottom: 0;padding: 0.3em;box-sizing: border-box;text-align: center;}#sk-container-id-6 label.sk-toggleable__label-arrow:before {content: \"▸\";float: left;margin-right: 0.25em;color: #696969;}#sk-container-id-6 label.sk-toggleable__label-arrow:hover:before {color: black;}#sk-container-id-6 div.sk-estimator:hover label.sk-toggleable__label-arrow:before {color: black;}#sk-container-id-6 div.sk-toggleable__content {max-height: 0;max-width: 0;overflow: hidden;text-align: left;background-color: #f0f8ff;}#sk-container-id-6 div.sk-toggleable__content pre {margin: 0.2em;color: black;border-radius: 0.25em;background-color: #f0f8ff;}#sk-container-id-6 input.sk-toggleable__control:checked~div.sk-toggleable__content {max-height: 200px;max-width: 100%;overflow: auto;}#sk-container-id-6 input.sk-toggleable__control:checked~label.sk-toggleable__label-arrow:before {content: \"▾\";}#sk-container-id-6 div.sk-estimator input.sk-toggleable__control:checked~label.sk-toggleable__label {background-color: #d4ebff;}#sk-container-id-6 div.sk-label input.sk-toggleable__control:checked~label.sk-toggleable__label {background-color: #d4ebff;}#sk-container-id-6 input.sk-hidden--visually {border: 0;clip: rect(1px 1px 1px 1px);clip: rect(1px, 1px, 1px, 1px);height: 1px;margin: -1px;overflow: hidden;padding: 0;position: absolute;width: 1px;}#sk-container-id-6 div.sk-estimator {font-family: monospace;background-color: #f0f8ff;border: 1px dotted black;border-radius: 0.25em;box-sizing: border-box;margin-bottom: 0.5em;}#sk-container-id-6 div.sk-estimator:hover {background-color: #d4ebff;}#sk-container-id-6 div.sk-parallel-item::after {content: \"\";width: 100%;border-bottom: 1px solid gray;flex-grow: 1;}#sk-container-id-6 div.sk-label:hover label.sk-toggleable__label {background-color: #d4ebff;}#sk-container-id-6 div.sk-serial::before {content: \"\";position: absolute;border-left: 1px solid gray;box-sizing: border-box;top: 0;bottom: 0;left: 50%;z-index: 0;}#sk-container-id-6 div.sk-serial {display: flex;flex-direction: column;align-items: center;background-color: white;padding-right: 0.2em;padding-left: 0.2em;position: relative;}#sk-container-id-6 div.sk-item {position: relative;z-index: 1;}#sk-container-id-6 div.sk-parallel {display: flex;align-items: stretch;justify-content: center;background-color: white;position: relative;}#sk-container-id-6 div.sk-item::before, #sk-container-id-6 div.sk-parallel-item::before {content: \"\";position: absolute;border-left: 1px solid gray;box-sizing: border-box;top: 0;bottom: 0;left: 50%;z-index: -1;}#sk-container-id-6 div.sk-parallel-item {display: flex;flex-direction: column;z-index: 1;position: relative;background-color: white;}#sk-container-id-6 div.sk-parallel-item:first-child::after {align-self: flex-end;width: 50%;}#sk-container-id-6 div.sk-parallel-item:last-child::after {align-self: flex-start;width: 50%;}#sk-container-id-6 div.sk-parallel-item:only-child::after {width: 0;}#sk-container-id-6 div.sk-dashed-wrapped {border: 1px dashed gray;margin: 0 0.4em 0.5em 0.4em;box-sizing: border-box;padding-bottom: 0.4em;background-color: white;}#sk-container-id-6 div.sk-label label {font-family: monospace;font-weight: bold;display: inline-block;line-height: 1.2em;}#sk-container-id-6 div.sk-label-container {text-align: center;}#sk-container-id-6 div.sk-container {/* jupyter's `normalize.less` sets `[hidden] { display: none; }` but bootstrap.min.css set `[hidden] { display: none !important; }` so we also need the `!important` here to be able to override the default hidden behavior on the sphinx rendered scikit-learn.org. See: https://github.com/scikit-learn/scikit-learn/issues/21755 */display: inline-block !important;position: relative;}#sk-container-id-6 div.sk-text-repr-fallback {display: none;}</style><div id=\"sk-container-id-6\" class=\"sk-top-container\"><div class=\"sk-text-repr-fallback\"><pre>GridSearchCV(cv=5,\n",
              "             estimator=Pipeline(steps=[(&#x27;preprocessor&#x27;,\n",
              "                                        ColumnTransformer(remainder=&#x27;passthrough&#x27;,\n",
              "                                                          transformers=[(&#x27;cat&#x27;,\n",
              "                                                                         Pipeline(steps=[(&#x27;onehot&#x27;,\n",
              "                                                                                          OneHotEncoder(handle_unknown=&#x27;ignore&#x27;))]),\n",
              "                                                                         [&#x27;country&#x27;,\n",
              "                                                                          &#x27;gender&#x27;])])),\n",
              "                                       (&#x27;classifier&#x27;,\n",
              "                                        RandomForestClassifier(random_state=42))]),\n",
              "             param_grid={&#x27;classifier__max_depth&#x27;: [10, 20, 30],\n",
              "                         &#x27;classifier__min_samples_split&#x27;: [2, 5, 10],\n",
              "                         &#x27;classifier__n_estimators&#x27;: [100, 200, 300]},\n",
              "             scoring=&#x27;accuracy&#x27;)</pre><b>In a Jupyter environment, please rerun this cell to show the HTML representation or trust the notebook. <br />On GitHub, the HTML representation is unable to render, please try loading this page with nbviewer.org.</b></div><div class=\"sk-container\" hidden><div class=\"sk-item sk-dashed-wrapped\"><div class=\"sk-label-container\"><div class=\"sk-label sk-toggleable\"><input class=\"sk-toggleable__control sk-hidden--visually\" id=\"sk-estimator-id-26\" type=\"checkbox\" ><label for=\"sk-estimator-id-26\" class=\"sk-toggleable__label sk-toggleable__label-arrow\">GridSearchCV</label><div class=\"sk-toggleable__content\"><pre>GridSearchCV(cv=5,\n",
              "             estimator=Pipeline(steps=[(&#x27;preprocessor&#x27;,\n",
              "                                        ColumnTransformer(remainder=&#x27;passthrough&#x27;,\n",
              "                                                          transformers=[(&#x27;cat&#x27;,\n",
              "                                                                         Pipeline(steps=[(&#x27;onehot&#x27;,\n",
              "                                                                                          OneHotEncoder(handle_unknown=&#x27;ignore&#x27;))]),\n",
              "                                                                         [&#x27;country&#x27;,\n",
              "                                                                          &#x27;gender&#x27;])])),\n",
              "                                       (&#x27;classifier&#x27;,\n",
              "                                        RandomForestClassifier(random_state=42))]),\n",
              "             param_grid={&#x27;classifier__max_depth&#x27;: [10, 20, 30],\n",
              "                         &#x27;classifier__min_samples_split&#x27;: [2, 5, 10],\n",
              "                         &#x27;classifier__n_estimators&#x27;: [100, 200, 300]},\n",
              "             scoring=&#x27;accuracy&#x27;)</pre></div></div></div><div class=\"sk-parallel\"><div class=\"sk-parallel-item\"><div class=\"sk-item\"><div class=\"sk-label-container\"><div class=\"sk-label sk-toggleable\"><input class=\"sk-toggleable__control sk-hidden--visually\" id=\"sk-estimator-id-27\" type=\"checkbox\" ><label for=\"sk-estimator-id-27\" class=\"sk-toggleable__label sk-toggleable__label-arrow\">estimator: Pipeline</label><div class=\"sk-toggleable__content\"><pre>Pipeline(steps=[(&#x27;preprocessor&#x27;,\n",
              "                 ColumnTransformer(remainder=&#x27;passthrough&#x27;,\n",
              "                                   transformers=[(&#x27;cat&#x27;,\n",
              "                                                  Pipeline(steps=[(&#x27;onehot&#x27;,\n",
              "                                                                   OneHotEncoder(handle_unknown=&#x27;ignore&#x27;))]),\n",
              "                                                  [&#x27;country&#x27;, &#x27;gender&#x27;])])),\n",
              "                (&#x27;classifier&#x27;, RandomForestClassifier(random_state=42))])</pre></div></div></div><div class=\"sk-serial\"><div class=\"sk-item\"><div class=\"sk-serial\"><div class=\"sk-item sk-dashed-wrapped\"><div class=\"sk-label-container\"><div class=\"sk-label sk-toggleable\"><input class=\"sk-toggleable__control sk-hidden--visually\" id=\"sk-estimator-id-28\" type=\"checkbox\" ><label for=\"sk-estimator-id-28\" class=\"sk-toggleable__label sk-toggleable__label-arrow\">preprocessor: ColumnTransformer</label><div class=\"sk-toggleable__content\"><pre>ColumnTransformer(remainder=&#x27;passthrough&#x27;,\n",
              "                  transformers=[(&#x27;cat&#x27;,\n",
              "                                 Pipeline(steps=[(&#x27;onehot&#x27;,\n",
              "                                                  OneHotEncoder(handle_unknown=&#x27;ignore&#x27;))]),\n",
              "                                 [&#x27;country&#x27;, &#x27;gender&#x27;])])</pre></div></div></div><div class=\"sk-parallel\"><div class=\"sk-parallel-item\"><div class=\"sk-item\"><div class=\"sk-label-container\"><div class=\"sk-label sk-toggleable\"><input class=\"sk-toggleable__control sk-hidden--visually\" id=\"sk-estimator-id-29\" type=\"checkbox\" ><label for=\"sk-estimator-id-29\" class=\"sk-toggleable__label sk-toggleable__label-arrow\">cat</label><div class=\"sk-toggleable__content\"><pre>[&#x27;country&#x27;, &#x27;gender&#x27;]</pre></div></div></div><div class=\"sk-serial\"><div class=\"sk-item\"><div class=\"sk-serial\"><div class=\"sk-item\"><div class=\"sk-estimator sk-toggleable\"><input class=\"sk-toggleable__control sk-hidden--visually\" id=\"sk-estimator-id-30\" type=\"checkbox\" ><label for=\"sk-estimator-id-30\" class=\"sk-toggleable__label sk-toggleable__label-arrow\">OneHotEncoder</label><div class=\"sk-toggleable__content\"><pre>OneHotEncoder(handle_unknown=&#x27;ignore&#x27;)</pre></div></div></div></div></div></div></div></div><div class=\"sk-parallel-item\"><div class=\"sk-item\"><div class=\"sk-label-container\"><div class=\"sk-label sk-toggleable\"><input class=\"sk-toggleable__control sk-hidden--visually\" id=\"sk-estimator-id-31\" type=\"checkbox\" ><label for=\"sk-estimator-id-31\" class=\"sk-toggleable__label sk-toggleable__label-arrow\">remainder</label><div class=\"sk-toggleable__content\"><pre>[&#x27;credit_score&#x27;, &#x27;age&#x27;, &#x27;tenure&#x27;, &#x27;balance&#x27;, &#x27;products_number&#x27;, &#x27;credit_card&#x27;, &#x27;active_member&#x27;, &#x27;estimated_salary&#x27;]</pre></div></div></div><div class=\"sk-serial\"><div class=\"sk-item\"><div class=\"sk-estimator sk-toggleable\"><input class=\"sk-toggleable__control sk-hidden--visually\" id=\"sk-estimator-id-32\" type=\"checkbox\" ><label for=\"sk-estimator-id-32\" class=\"sk-toggleable__label sk-toggleable__label-arrow\">passthrough</label><div class=\"sk-toggleable__content\"><pre>passthrough</pre></div></div></div></div></div></div></div></div><div class=\"sk-item\"><div class=\"sk-estimator sk-toggleable\"><input class=\"sk-toggleable__control sk-hidden--visually\" id=\"sk-estimator-id-33\" type=\"checkbox\" ><label for=\"sk-estimator-id-33\" class=\"sk-toggleable__label sk-toggleable__label-arrow\">RandomForestClassifier</label><div class=\"sk-toggleable__content\"><pre>RandomForestClassifier(random_state=42)</pre></div></div></div></div></div></div></div></div></div></div></div></div>"
            ]
          },
          "metadata": {},
          "execution_count": 72
        }
      ],
      "source": [
        "# Gunakan GridSearchCV untuk mencari parameter terbaik\n",
        "grid_search = GridSearchCV(pipeline, param_grid, cv=5, scoring='accuracy')\n",
        "grid_search.fit(X_train, y_train)\n"
      ],
      "id": "PNrIfiaw7ATQ"
    },
    {
      "cell_type": "code",
      "execution_count": 63,
      "metadata": {
        "colab": {
          "base_uri": "https://localhost:8080/"
        },
        "id": "v9ml1an57lg9",
        "outputId": "d781b320-3078-43b6-bbe8-45754f5bff12"
      },
      "outputs": [
        {
          "output_type": "stream",
          "name": "stdout",
          "text": [
            "Best Parameters: {'classifier__learning_rate': 0.1, 'classifier__max_depth': 3, 'classifier__n_estimators': 100}\n"
          ]
        }
      ],
      "source": [
        "best_params = grid_search.best_params_\n",
        "print(\"Best Parameters:\", best_params)"
      ],
      "id": "v9ml1an57lg9"
    },
    {
      "cell_type": "code",
      "execution_count": 62,
      "metadata": {
        "colab": {
          "base_uri": "https://localhost:8080/",
          "height": 192
        },
        "id": "2YJAY5D97yIc",
        "outputId": "b7c15bfd-25cb-4ca7-a53e-59df23d55989"
      },
      "outputs": [
        {
          "output_type": "execute_result",
          "data": {
            "text/plain": [
              "Pipeline(steps=[('preprocessor',\n",
              "                 ColumnTransformer(transformers=[('cat',\n",
              "                                                  Pipeline(steps=[('onehot',\n",
              "                                                                   OneHotEncoder(handle_unknown='ignore'))]),\n",
              "                                                  ['country', 'gender'])])),\n",
              "                ('classifier',\n",
              "                 XGBClassifier(base_score=None, booster=None, callbacks=None,\n",
              "                               colsample_bylevel=None, colsample_bynode=None,\n",
              "                               colsample_bytree=None, device=None,\n",
              "                               early_stopping_rounds=None,\n",
              "                               enable_c...\n",
              "                               feature_types=None, gamma=None, grow_policy=None,\n",
              "                               importance_type=None,\n",
              "                               interaction_constraints=None, learning_rate=0.1,\n",
              "                               max_bin=None, max_cat_threshold=None,\n",
              "                               max_cat_to_onehot=None, max_delta_step=None,\n",
              "                               max_depth=3, max_leaves=None,\n",
              "                               min_child_weight=None, missing=nan,\n",
              "                               monotone_constraints=None, multi_strategy=None,\n",
              "                               n_estimators=100, n_jobs=None,\n",
              "                               num_parallel_tree=None, random_state=None, ...))])"
            ],
            "text/html": [
              "<style>#sk-container-id-5 {color: black;background-color: white;}#sk-container-id-5 pre{padding: 0;}#sk-container-id-5 div.sk-toggleable {background-color: white;}#sk-container-id-5 label.sk-toggleable__label {cursor: pointer;display: block;width: 100%;margin-bottom: 0;padding: 0.3em;box-sizing: border-box;text-align: center;}#sk-container-id-5 label.sk-toggleable__label-arrow:before {content: \"▸\";float: left;margin-right: 0.25em;color: #696969;}#sk-container-id-5 label.sk-toggleable__label-arrow:hover:before {color: black;}#sk-container-id-5 div.sk-estimator:hover label.sk-toggleable__label-arrow:before {color: black;}#sk-container-id-5 div.sk-toggleable__content {max-height: 0;max-width: 0;overflow: hidden;text-align: left;background-color: #f0f8ff;}#sk-container-id-5 div.sk-toggleable__content pre {margin: 0.2em;color: black;border-radius: 0.25em;background-color: #f0f8ff;}#sk-container-id-5 input.sk-toggleable__control:checked~div.sk-toggleable__content {max-height: 200px;max-width: 100%;overflow: auto;}#sk-container-id-5 input.sk-toggleable__control:checked~label.sk-toggleable__label-arrow:before {content: \"▾\";}#sk-container-id-5 div.sk-estimator input.sk-toggleable__control:checked~label.sk-toggleable__label {background-color: #d4ebff;}#sk-container-id-5 div.sk-label input.sk-toggleable__control:checked~label.sk-toggleable__label {background-color: #d4ebff;}#sk-container-id-5 input.sk-hidden--visually {border: 0;clip: rect(1px 1px 1px 1px);clip: rect(1px, 1px, 1px, 1px);height: 1px;margin: -1px;overflow: hidden;padding: 0;position: absolute;width: 1px;}#sk-container-id-5 div.sk-estimator {font-family: monospace;background-color: #f0f8ff;border: 1px dotted black;border-radius: 0.25em;box-sizing: border-box;margin-bottom: 0.5em;}#sk-container-id-5 div.sk-estimator:hover {background-color: #d4ebff;}#sk-container-id-5 div.sk-parallel-item::after {content: \"\";width: 100%;border-bottom: 1px solid gray;flex-grow: 1;}#sk-container-id-5 div.sk-label:hover label.sk-toggleable__label {background-color: #d4ebff;}#sk-container-id-5 div.sk-serial::before {content: \"\";position: absolute;border-left: 1px solid gray;box-sizing: border-box;top: 0;bottom: 0;left: 50%;z-index: 0;}#sk-container-id-5 div.sk-serial {display: flex;flex-direction: column;align-items: center;background-color: white;padding-right: 0.2em;padding-left: 0.2em;position: relative;}#sk-container-id-5 div.sk-item {position: relative;z-index: 1;}#sk-container-id-5 div.sk-parallel {display: flex;align-items: stretch;justify-content: center;background-color: white;position: relative;}#sk-container-id-5 div.sk-item::before, #sk-container-id-5 div.sk-parallel-item::before {content: \"\";position: absolute;border-left: 1px solid gray;box-sizing: border-box;top: 0;bottom: 0;left: 50%;z-index: -1;}#sk-container-id-5 div.sk-parallel-item {display: flex;flex-direction: column;z-index: 1;position: relative;background-color: white;}#sk-container-id-5 div.sk-parallel-item:first-child::after {align-self: flex-end;width: 50%;}#sk-container-id-5 div.sk-parallel-item:last-child::after {align-self: flex-start;width: 50%;}#sk-container-id-5 div.sk-parallel-item:only-child::after {width: 0;}#sk-container-id-5 div.sk-dashed-wrapped {border: 1px dashed gray;margin: 0 0.4em 0.5em 0.4em;box-sizing: border-box;padding-bottom: 0.4em;background-color: white;}#sk-container-id-5 div.sk-label label {font-family: monospace;font-weight: bold;display: inline-block;line-height: 1.2em;}#sk-container-id-5 div.sk-label-container {text-align: center;}#sk-container-id-5 div.sk-container {/* jupyter's `normalize.less` sets `[hidden] { display: none; }` but bootstrap.min.css set `[hidden] { display: none !important; }` so we also need the `!important` here to be able to override the default hidden behavior on the sphinx rendered scikit-learn.org. See: https://github.com/scikit-learn/scikit-learn/issues/21755 */display: inline-block !important;position: relative;}#sk-container-id-5 div.sk-text-repr-fallback {display: none;}</style><div id=\"sk-container-id-5\" class=\"sk-top-container\"><div class=\"sk-text-repr-fallback\"><pre>Pipeline(steps=[(&#x27;preprocessor&#x27;,\n",
              "                 ColumnTransformer(transformers=[(&#x27;cat&#x27;,\n",
              "                                                  Pipeline(steps=[(&#x27;onehot&#x27;,\n",
              "                                                                   OneHotEncoder(handle_unknown=&#x27;ignore&#x27;))]),\n",
              "                                                  [&#x27;country&#x27;, &#x27;gender&#x27;])])),\n",
              "                (&#x27;classifier&#x27;,\n",
              "                 XGBClassifier(base_score=None, booster=None, callbacks=None,\n",
              "                               colsample_bylevel=None, colsample_bynode=None,\n",
              "                               colsample_bytree=None, device=None,\n",
              "                               early_stopping_rounds=None,\n",
              "                               enable_c...\n",
              "                               feature_types=None, gamma=None, grow_policy=None,\n",
              "                               importance_type=None,\n",
              "                               interaction_constraints=None, learning_rate=0.1,\n",
              "                               max_bin=None, max_cat_threshold=None,\n",
              "                               max_cat_to_onehot=None, max_delta_step=None,\n",
              "                               max_depth=3, max_leaves=None,\n",
              "                               min_child_weight=None, missing=nan,\n",
              "                               monotone_constraints=None, multi_strategy=None,\n",
              "                               n_estimators=100, n_jobs=None,\n",
              "                               num_parallel_tree=None, random_state=None, ...))])</pre><b>In a Jupyter environment, please rerun this cell to show the HTML representation or trust the notebook. <br />On GitHub, the HTML representation is unable to render, please try loading this page with nbviewer.org.</b></div><div class=\"sk-container\" hidden><div class=\"sk-item sk-dashed-wrapped\"><div class=\"sk-label-container\"><div class=\"sk-label sk-toggleable\"><input class=\"sk-toggleable__control sk-hidden--visually\" id=\"sk-estimator-id-21\" type=\"checkbox\" ><label for=\"sk-estimator-id-21\" class=\"sk-toggleable__label sk-toggleable__label-arrow\">Pipeline</label><div class=\"sk-toggleable__content\"><pre>Pipeline(steps=[(&#x27;preprocessor&#x27;,\n",
              "                 ColumnTransformer(transformers=[(&#x27;cat&#x27;,\n",
              "                                                  Pipeline(steps=[(&#x27;onehot&#x27;,\n",
              "                                                                   OneHotEncoder(handle_unknown=&#x27;ignore&#x27;))]),\n",
              "                                                  [&#x27;country&#x27;, &#x27;gender&#x27;])])),\n",
              "                (&#x27;classifier&#x27;,\n",
              "                 XGBClassifier(base_score=None, booster=None, callbacks=None,\n",
              "                               colsample_bylevel=None, colsample_bynode=None,\n",
              "                               colsample_bytree=None, device=None,\n",
              "                               early_stopping_rounds=None,\n",
              "                               enable_c...\n",
              "                               feature_types=None, gamma=None, grow_policy=None,\n",
              "                               importance_type=None,\n",
              "                               interaction_constraints=None, learning_rate=0.1,\n",
              "                               max_bin=None, max_cat_threshold=None,\n",
              "                               max_cat_to_onehot=None, max_delta_step=None,\n",
              "                               max_depth=3, max_leaves=None,\n",
              "                               min_child_weight=None, missing=nan,\n",
              "                               monotone_constraints=None, multi_strategy=None,\n",
              "                               n_estimators=100, n_jobs=None,\n",
              "                               num_parallel_tree=None, random_state=None, ...))])</pre></div></div></div><div class=\"sk-serial\"><div class=\"sk-item sk-dashed-wrapped\"><div class=\"sk-label-container\"><div class=\"sk-label sk-toggleable\"><input class=\"sk-toggleable__control sk-hidden--visually\" id=\"sk-estimator-id-22\" type=\"checkbox\" ><label for=\"sk-estimator-id-22\" class=\"sk-toggleable__label sk-toggleable__label-arrow\">preprocessor: ColumnTransformer</label><div class=\"sk-toggleable__content\"><pre>ColumnTransformer(transformers=[(&#x27;cat&#x27;,\n",
              "                                 Pipeline(steps=[(&#x27;onehot&#x27;,\n",
              "                                                  OneHotEncoder(handle_unknown=&#x27;ignore&#x27;))]),\n",
              "                                 [&#x27;country&#x27;, &#x27;gender&#x27;])])</pre></div></div></div><div class=\"sk-parallel\"><div class=\"sk-parallel-item\"><div class=\"sk-item\"><div class=\"sk-label-container\"><div class=\"sk-label sk-toggleable\"><input class=\"sk-toggleable__control sk-hidden--visually\" id=\"sk-estimator-id-23\" type=\"checkbox\" ><label for=\"sk-estimator-id-23\" class=\"sk-toggleable__label sk-toggleable__label-arrow\">cat</label><div class=\"sk-toggleable__content\"><pre>[&#x27;country&#x27;, &#x27;gender&#x27;]</pre></div></div></div><div class=\"sk-serial\"><div class=\"sk-item\"><div class=\"sk-serial\"><div class=\"sk-item\"><div class=\"sk-estimator sk-toggleable\"><input class=\"sk-toggleable__control sk-hidden--visually\" id=\"sk-estimator-id-24\" type=\"checkbox\" ><label for=\"sk-estimator-id-24\" class=\"sk-toggleable__label sk-toggleable__label-arrow\">OneHotEncoder</label><div class=\"sk-toggleable__content\"><pre>OneHotEncoder(handle_unknown=&#x27;ignore&#x27;)</pre></div></div></div></div></div></div></div></div></div></div><div class=\"sk-item\"><div class=\"sk-estimator sk-toggleable\"><input class=\"sk-toggleable__control sk-hidden--visually\" id=\"sk-estimator-id-25\" type=\"checkbox\" ><label for=\"sk-estimator-id-25\" class=\"sk-toggleable__label sk-toggleable__label-arrow\">XGBClassifier</label><div class=\"sk-toggleable__content\"><pre>XGBClassifier(base_score=None, booster=None, callbacks=None,\n",
              "              colsample_bylevel=None, colsample_bynode=None,\n",
              "              colsample_bytree=None, device=None, early_stopping_rounds=None,\n",
              "              enable_categorical=False, eval_metric=None, feature_types=None,\n",
              "              gamma=None, grow_policy=None, importance_type=None,\n",
              "              interaction_constraints=None, learning_rate=0.1, max_bin=None,\n",
              "              max_cat_threshold=None, max_cat_to_onehot=None,\n",
              "              max_delta_step=None, max_depth=3, max_leaves=None,\n",
              "              min_child_weight=None, missing=nan, monotone_constraints=None,\n",
              "              multi_strategy=None, n_estimators=100, n_jobs=None,\n",
              "              num_parallel_tree=None, random_state=None, ...)</pre></div></div></div></div></div></div></div>"
            ]
          },
          "metadata": {},
          "execution_count": 62
        }
      ],
      "source": [
        "# Latih model dengan parameter terbaik\n",
        "best_model = grid_search.best_estimator_\n",
        "best_model.fit(X_train, y_train)\n"
      ],
      "id": "2YJAY5D97yIc"
    },
    {
      "cell_type": "code",
      "execution_count": 71,
      "metadata": {
        "colab": {
          "base_uri": "https://localhost:8080/"
        },
        "id": "3ZOsjH8v74vF",
        "outputId": "e34fc396-aeab-4d52-d248-d648cf4c8c13"
      },
      "outputs": [
        {
          "output_type": "stream",
          "name": "stdout",
          "text": [
            "Classification Report on Test Data:\n",
            "              precision    recall  f1-score   support\n",
            "\n",
            "           0       0.80      1.00      0.89      1607\n",
            "           1       0.00      0.00      0.00       393\n",
            "\n",
            "    accuracy                           0.80      2000\n",
            "   macro avg       0.40      0.50      0.45      2000\n",
            "weighted avg       0.65      0.80      0.72      2000\n",
            "\n"
          ]
        }
      ],
      "source": [
        "# Evaluasi model di atas data uji\n",
        "y_pred = best_model.predict(X_test)\n",
        "print(\"Classification Report on Test Data:\")\n",
        "print(classification_report(y_test, y_pred))"
      ],
      "id": "3ZOsjH8v74vF"
    },
    {
      "cell_type": "code",
      "execution_count": 31,
      "metadata": {
        "id": "Qkt8YibgV4Q3"
      },
      "outputs": [],
      "source": [
        "\n",
        "# Inisialisasi model\n",
        "decision_tree_model = DecisionTreeClassifier(random_state=42)\n",
        "random_forest_model = RandomForestClassifier(random_state=42)\n",
        "xgboost_model = XGBClassifier(random_state=42)\n",
        "\n",
        "# Daftar model\n",
        "models = {\n",
        "    \"Decision Tree\": decision_tree_model,\n",
        "    \"Random Forest\": random_forest_model,\n",
        "    \"XGBoost\": xgboost_model\n",
        "}"
      ],
      "id": "Qkt8YibgV4Q3"
    },
    {
      "cell_type": "code",
      "execution_count": 32,
      "metadata": {
        "colab": {
          "base_uri": "https://localhost:8080/",
          "height": 192
        },
        "id": "segZ8tbXV77B",
        "outputId": "7b095d1d-d521-47c2-e9ef-0b2ad02414b7"
      },
      "outputs": [
        {
          "output_type": "execute_result",
          "data": {
            "text/plain": [
              "Pipeline(steps=[('preprocessor',\n",
              "                 ColumnTransformer(remainder='passthrough',\n",
              "                                   transformers=[('cat',\n",
              "                                                  Pipeline(steps=[('onehot',\n",
              "                                                                   OneHotEncoder(handle_unknown='ignore'))]),\n",
              "                                                  ['country', 'gender'])])),\n",
              "                ('classifier', RandomForestClassifier(random_state=42))])"
            ],
            "text/html": [
              "<style>#sk-container-id-1 {color: black;background-color: white;}#sk-container-id-1 pre{padding: 0;}#sk-container-id-1 div.sk-toggleable {background-color: white;}#sk-container-id-1 label.sk-toggleable__label {cursor: pointer;display: block;width: 100%;margin-bottom: 0;padding: 0.3em;box-sizing: border-box;text-align: center;}#sk-container-id-1 label.sk-toggleable__label-arrow:before {content: \"▸\";float: left;margin-right: 0.25em;color: #696969;}#sk-container-id-1 label.sk-toggleable__label-arrow:hover:before {color: black;}#sk-container-id-1 div.sk-estimator:hover label.sk-toggleable__label-arrow:before {color: black;}#sk-container-id-1 div.sk-toggleable__content {max-height: 0;max-width: 0;overflow: hidden;text-align: left;background-color: #f0f8ff;}#sk-container-id-1 div.sk-toggleable__content pre {margin: 0.2em;color: black;border-radius: 0.25em;background-color: #f0f8ff;}#sk-container-id-1 input.sk-toggleable__control:checked~div.sk-toggleable__content {max-height: 200px;max-width: 100%;overflow: auto;}#sk-container-id-1 input.sk-toggleable__control:checked~label.sk-toggleable__label-arrow:before {content: \"▾\";}#sk-container-id-1 div.sk-estimator input.sk-toggleable__control:checked~label.sk-toggleable__label {background-color: #d4ebff;}#sk-container-id-1 div.sk-label input.sk-toggleable__control:checked~label.sk-toggleable__label {background-color: #d4ebff;}#sk-container-id-1 input.sk-hidden--visually {border: 0;clip: rect(1px 1px 1px 1px);clip: rect(1px, 1px, 1px, 1px);height: 1px;margin: -1px;overflow: hidden;padding: 0;position: absolute;width: 1px;}#sk-container-id-1 div.sk-estimator {font-family: monospace;background-color: #f0f8ff;border: 1px dotted black;border-radius: 0.25em;box-sizing: border-box;margin-bottom: 0.5em;}#sk-container-id-1 div.sk-estimator:hover {background-color: #d4ebff;}#sk-container-id-1 div.sk-parallel-item::after {content: \"\";width: 100%;border-bottom: 1px solid gray;flex-grow: 1;}#sk-container-id-1 div.sk-label:hover label.sk-toggleable__label {background-color: #d4ebff;}#sk-container-id-1 div.sk-serial::before {content: \"\";position: absolute;border-left: 1px solid gray;box-sizing: border-box;top: 0;bottom: 0;left: 50%;z-index: 0;}#sk-container-id-1 div.sk-serial {display: flex;flex-direction: column;align-items: center;background-color: white;padding-right: 0.2em;padding-left: 0.2em;position: relative;}#sk-container-id-1 div.sk-item {position: relative;z-index: 1;}#sk-container-id-1 div.sk-parallel {display: flex;align-items: stretch;justify-content: center;background-color: white;position: relative;}#sk-container-id-1 div.sk-item::before, #sk-container-id-1 div.sk-parallel-item::before {content: \"\";position: absolute;border-left: 1px solid gray;box-sizing: border-box;top: 0;bottom: 0;left: 50%;z-index: -1;}#sk-container-id-1 div.sk-parallel-item {display: flex;flex-direction: column;z-index: 1;position: relative;background-color: white;}#sk-container-id-1 div.sk-parallel-item:first-child::after {align-self: flex-end;width: 50%;}#sk-container-id-1 div.sk-parallel-item:last-child::after {align-self: flex-start;width: 50%;}#sk-container-id-1 div.sk-parallel-item:only-child::after {width: 0;}#sk-container-id-1 div.sk-dashed-wrapped {border: 1px dashed gray;margin: 0 0.4em 0.5em 0.4em;box-sizing: border-box;padding-bottom: 0.4em;background-color: white;}#sk-container-id-1 div.sk-label label {font-family: monospace;font-weight: bold;display: inline-block;line-height: 1.2em;}#sk-container-id-1 div.sk-label-container {text-align: center;}#sk-container-id-1 div.sk-container {/* jupyter's `normalize.less` sets `[hidden] { display: none; }` but bootstrap.min.css set `[hidden] { display: none !important; }` so we also need the `!important` here to be able to override the default hidden behavior on the sphinx rendered scikit-learn.org. See: https://github.com/scikit-learn/scikit-learn/issues/21755 */display: inline-block !important;position: relative;}#sk-container-id-1 div.sk-text-repr-fallback {display: none;}</style><div id=\"sk-container-id-1\" class=\"sk-top-container\"><div class=\"sk-text-repr-fallback\"><pre>Pipeline(steps=[(&#x27;preprocessor&#x27;,\n",
              "                 ColumnTransformer(remainder=&#x27;passthrough&#x27;,\n",
              "                                   transformers=[(&#x27;cat&#x27;,\n",
              "                                                  Pipeline(steps=[(&#x27;onehot&#x27;,\n",
              "                                                                   OneHotEncoder(handle_unknown=&#x27;ignore&#x27;))]),\n",
              "                                                  [&#x27;country&#x27;, &#x27;gender&#x27;])])),\n",
              "                (&#x27;classifier&#x27;, RandomForestClassifier(random_state=42))])</pre><b>In a Jupyter environment, please rerun this cell to show the HTML representation or trust the notebook. <br />On GitHub, the HTML representation is unable to render, please try loading this page with nbviewer.org.</b></div><div class=\"sk-container\" hidden><div class=\"sk-item sk-dashed-wrapped\"><div class=\"sk-label-container\"><div class=\"sk-label sk-toggleable\"><input class=\"sk-toggleable__control sk-hidden--visually\" id=\"sk-estimator-id-1\" type=\"checkbox\" ><label for=\"sk-estimator-id-1\" class=\"sk-toggleable__label sk-toggleable__label-arrow\">Pipeline</label><div class=\"sk-toggleable__content\"><pre>Pipeline(steps=[(&#x27;preprocessor&#x27;,\n",
              "                 ColumnTransformer(remainder=&#x27;passthrough&#x27;,\n",
              "                                   transformers=[(&#x27;cat&#x27;,\n",
              "                                                  Pipeline(steps=[(&#x27;onehot&#x27;,\n",
              "                                                                   OneHotEncoder(handle_unknown=&#x27;ignore&#x27;))]),\n",
              "                                                  [&#x27;country&#x27;, &#x27;gender&#x27;])])),\n",
              "                (&#x27;classifier&#x27;, RandomForestClassifier(random_state=42))])</pre></div></div></div><div class=\"sk-serial\"><div class=\"sk-item sk-dashed-wrapped\"><div class=\"sk-label-container\"><div class=\"sk-label sk-toggleable\"><input class=\"sk-toggleable__control sk-hidden--visually\" id=\"sk-estimator-id-2\" type=\"checkbox\" ><label for=\"sk-estimator-id-2\" class=\"sk-toggleable__label sk-toggleable__label-arrow\">preprocessor: ColumnTransformer</label><div class=\"sk-toggleable__content\"><pre>ColumnTransformer(remainder=&#x27;passthrough&#x27;,\n",
              "                  transformers=[(&#x27;cat&#x27;,\n",
              "                                 Pipeline(steps=[(&#x27;onehot&#x27;,\n",
              "                                                  OneHotEncoder(handle_unknown=&#x27;ignore&#x27;))]),\n",
              "                                 [&#x27;country&#x27;, &#x27;gender&#x27;])])</pre></div></div></div><div class=\"sk-parallel\"><div class=\"sk-parallel-item\"><div class=\"sk-item\"><div class=\"sk-label-container\"><div class=\"sk-label sk-toggleable\"><input class=\"sk-toggleable__control sk-hidden--visually\" id=\"sk-estimator-id-3\" type=\"checkbox\" ><label for=\"sk-estimator-id-3\" class=\"sk-toggleable__label sk-toggleable__label-arrow\">cat</label><div class=\"sk-toggleable__content\"><pre>[&#x27;country&#x27;, &#x27;gender&#x27;]</pre></div></div></div><div class=\"sk-serial\"><div class=\"sk-item\"><div class=\"sk-serial\"><div class=\"sk-item\"><div class=\"sk-estimator sk-toggleable\"><input class=\"sk-toggleable__control sk-hidden--visually\" id=\"sk-estimator-id-4\" type=\"checkbox\" ><label for=\"sk-estimator-id-4\" class=\"sk-toggleable__label sk-toggleable__label-arrow\">OneHotEncoder</label><div class=\"sk-toggleable__content\"><pre>OneHotEncoder(handle_unknown=&#x27;ignore&#x27;)</pre></div></div></div></div></div></div></div></div><div class=\"sk-parallel-item\"><div class=\"sk-item\"><div class=\"sk-label-container\"><div class=\"sk-label sk-toggleable\"><input class=\"sk-toggleable__control sk-hidden--visually\" id=\"sk-estimator-id-5\" type=\"checkbox\" ><label for=\"sk-estimator-id-5\" class=\"sk-toggleable__label sk-toggleable__label-arrow\">remainder</label><div class=\"sk-toggleable__content\"><pre>[&#x27;credit_score&#x27;, &#x27;age&#x27;, &#x27;tenure&#x27;, &#x27;balance&#x27;, &#x27;products_number&#x27;, &#x27;credit_card&#x27;, &#x27;active_member&#x27;, &#x27;estimated_salary&#x27;]</pre></div></div></div><div class=\"sk-serial\"><div class=\"sk-item\"><div class=\"sk-estimator sk-toggleable\"><input class=\"sk-toggleable__control sk-hidden--visually\" id=\"sk-estimator-id-6\" type=\"checkbox\" ><label for=\"sk-estimator-id-6\" class=\"sk-toggleable__label sk-toggleable__label-arrow\">passthrough</label><div class=\"sk-toggleable__content\"><pre>passthrough</pre></div></div></div></div></div></div></div></div><div class=\"sk-item\"><div class=\"sk-estimator sk-toggleable\"><input class=\"sk-toggleable__control sk-hidden--visually\" id=\"sk-estimator-id-7\" type=\"checkbox\" ><label for=\"sk-estimator-id-7\" class=\"sk-toggleable__label sk-toggleable__label-arrow\">RandomForestClassifier</label><div class=\"sk-toggleable__content\"><pre>RandomForestClassifier(random_state=42)</pre></div></div></div></div></div></div></div>"
            ]
          },
          "metadata": {},
          "execution_count": 32
        }
      ],
      "source": [
        "# Membuat transformer untuk kategori\n",
        "categorical_transformer = Pipeline(steps=[\n",
        "    ('onehot', OneHotEncoder(handle_unknown='ignore'))\n",
        "])\n",
        "\n",
        "# Menggabungkan transformer kategori dengan transformer lainnya (jika ada)\n",
        "preprocessor = ColumnTransformer(\n",
        "    transformers=[\n",
        "        ('cat', categorical_transformer, categorical_cols)\n",
        "        # (Tambahkan transformer lain jika diperlukan)\n",
        "    ],\n",
        "    remainder='passthrough'\n",
        ")\n",
        "\n",
        "# Menyiapkan pipeline untuk preprocessing data\n",
        "pipeline = Pipeline(steps=[('preprocessor', preprocessor),\n",
        "                           ('classifier', RandomForestClassifier(random_state=42))])\n",
        "\n",
        "# Melatih model dengan pipeline\n",
        "pipeline.fit(X_train, y_train)"
      ],
      "id": "segZ8tbXV77B"
    },
    {
      "cell_type": "code",
      "execution_count": 33,
      "metadata": {
        "id": "UJGl3xNRYbFR"
      },
      "outputs": [],
      "source": [
        "from sklearn.metrics import accuracy_score, precision_score, recall_score, f1_score\n",
        "\n",
        "def classif(model, X_test, y_test):\n",
        "    y_pred = model.predict(X_test)\n",
        "    accuracy = accuracy_score(y_test, y_pred)\n",
        "    precision = precision_score(y_test, y_pred)\n",
        "    recall = recall_score(y_test, y_pred)\n",
        "    f1 = f1_score(y_test, y_pred)\n",
        "\n",
        "    print(f\"Accuracy: {accuracy:.2f}\")\n",
        "    print(f\"Precision: {precision:.2f}\")\n",
        "    print(f\"Recall: {recall:.2f}\")\n",
        "    print(f\"F1 Score: {f1:.2f}\")"
      ],
      "id": "UJGl3xNRYbFR"
    },
    {
      "cell_type": "code",
      "execution_count": 34,
      "metadata": {
        "id": "tyWDBM5bl_Zm"
      },
      "outputs": [],
      "source": [
        "# Pisahkan data menjadi data pelatihan dan data uji (contoh: menggunakan 20% data untuk uji)\n",
        "X_train, X_test, y_train, y_test = train_test_split(X, y, test_size=0.2, random_state=42)\n",
        "\n",
        "# Inisialisasi objek OneHotEncoder\n",
        "encoder = OneHotEncoder(handle_unknown='ignore', sparse=False)\n",
        "\n",
        "# Terapkan One-Hot Encoding pada data pelatihan dan data uji\n",
        "X_train_encoded = encoder.fit_transform(X_train[categorical_cols])\n",
        "X_test_encoded = encoder.transform(X_test[categorical_cols])\n",
        "\n",
        "# Ambil kolom-kolom numerik dari data pelatihan dan data uji\n",
        "X_train_numeric = X_train.drop(categorical_cols, axis=1)\n",
        "X_test_numeric = X_test.drop(categorical_cols, axis=1)\n",
        "\n",
        "# Gabungkan data numerik dengan data yang sudah diencode\n",
        "X_train_encoded = np.hstack((X_train_numeric, X_train_encoded))\n",
        "X_test_encoded = np.hstack((X_test_numeric, X_test_encoded))\n"
      ],
      "id": "tyWDBM5bl_Zm"
    },
    {
      "cell_type": "code",
      "execution_count": 60,
      "metadata": {
        "colab": {
          "base_uri": "https://localhost:8080/"
        },
        "id": "PMloaUglNGdW",
        "outputId": "36b1bf60-de66-4b72-8203-963567a94b7e"
      },
      "outputs": [
        {
          "output_type": "stream",
          "name": "stdout",
          "text": [
            "Model Random Forest\n",
            "Akurasi: 0.86\n",
            "Presisi: 0.75\n",
            "Recall: 0.47\n",
            "F1-Score: 0.57\n"
          ]
        }
      ],
      "source": [
        "\n",
        "label_encoders = {}\n",
        "for column in ['country', 'gender']:\n",
        "    label_encoders[column] = LabelEncoder()\n",
        "    df[column] = label_encoders[column].fit_transform(df[column])\n",
        "\n",
        "# Memisahkan fitur (X) dan target (y)\n",
        "X = df.drop('churn', axis=1)\n",
        "y = df['churn']\n",
        "\n",
        "# Membagi data menjadi data pelatihan dan data uji\n",
        "X_train, X_test, y_train, y_test = train_test_split(X, y, test_size=0.2, random_state=42)\n",
        "\n",
        "# Inisialisasi model Random Forest\n",
        "rf_model = RandomForestClassifier(n_estimators=100, random_state=42)\n",
        "\n",
        "# Melatih model dengan data pelatihan\n",
        "rf_model.fit(X_train, y_train)\n",
        "\n",
        "# Menggunakan model untuk membuat prediksi pada data uji\n",
        "y_pred_class = rf_model.predict(X_test)\n",
        "\n",
        "# Menghitung akurasi\n",
        "accuracy = accuracy_score(y_test, y_pred_class)\n",
        "\n",
        "# Menghitung presisi\n",
        "precision = precision_score(y_test, y_pred_class)\n",
        "\n",
        "# Menghitung recall\n",
        "recall = recall_score(y_test, y_pred_class)\n",
        "\n",
        "# Menghitung F1-score\n",
        "f1 = f1_score(y_test, y_pred_class)\n",
        "\n",
        "# Menampilkan hasil evaluasi\n",
        "print(\"Model Random Forest\")\n",
        "print(\"Akurasi: {:.2f}\".format(accuracy))\n",
        "print(\"Presisi: {:.2f}\".format(precision))\n",
        "print(\"Recall: {:.2f}\".format(recall))\n",
        "print(\"F1-Score: {:.2f}\".format(f1))\n"
      ],
      "id": "PMloaUglNGdW"
    },
    {
      "cell_type": "code",
      "execution_count": 36,
      "metadata": {
        "colab": {
          "base_uri": "https://localhost:8080/",
          "height": 192
        },
        "id": "Hw_b1BJSjDZY",
        "outputId": "808fbc28-712d-4d0a-a446-5fb26864b824"
      },
      "outputs": [
        {
          "output_type": "execute_result",
          "data": {
            "text/plain": [
              "Pipeline(steps=[('preprocessor',\n",
              "                 ColumnTransformer(remainder='passthrough',\n",
              "                                   transformers=[('cat',\n",
              "                                                  Pipeline(steps=[('onehot',\n",
              "                                                                   OneHotEncoder(handle_unknown='ignore'))]),\n",
              "                                                  ['country', 'gender'])])),\n",
              "                ('classifier', DecisionTreeClassifier(random_state=42))])"
            ],
            "text/html": [
              "<style>#sk-container-id-2 {color: black;background-color: white;}#sk-container-id-2 pre{padding: 0;}#sk-container-id-2 div.sk-toggleable {background-color: white;}#sk-container-id-2 label.sk-toggleable__label {cursor: pointer;display: block;width: 100%;margin-bottom: 0;padding: 0.3em;box-sizing: border-box;text-align: center;}#sk-container-id-2 label.sk-toggleable__label-arrow:before {content: \"▸\";float: left;margin-right: 0.25em;color: #696969;}#sk-container-id-2 label.sk-toggleable__label-arrow:hover:before {color: black;}#sk-container-id-2 div.sk-estimator:hover label.sk-toggleable__label-arrow:before {color: black;}#sk-container-id-2 div.sk-toggleable__content {max-height: 0;max-width: 0;overflow: hidden;text-align: left;background-color: #f0f8ff;}#sk-container-id-2 div.sk-toggleable__content pre {margin: 0.2em;color: black;border-radius: 0.25em;background-color: #f0f8ff;}#sk-container-id-2 input.sk-toggleable__control:checked~div.sk-toggleable__content {max-height: 200px;max-width: 100%;overflow: auto;}#sk-container-id-2 input.sk-toggleable__control:checked~label.sk-toggleable__label-arrow:before {content: \"▾\";}#sk-container-id-2 div.sk-estimator input.sk-toggleable__control:checked~label.sk-toggleable__label {background-color: #d4ebff;}#sk-container-id-2 div.sk-label input.sk-toggleable__control:checked~label.sk-toggleable__label {background-color: #d4ebff;}#sk-container-id-2 input.sk-hidden--visually {border: 0;clip: rect(1px 1px 1px 1px);clip: rect(1px, 1px, 1px, 1px);height: 1px;margin: -1px;overflow: hidden;padding: 0;position: absolute;width: 1px;}#sk-container-id-2 div.sk-estimator {font-family: monospace;background-color: #f0f8ff;border: 1px dotted black;border-radius: 0.25em;box-sizing: border-box;margin-bottom: 0.5em;}#sk-container-id-2 div.sk-estimator:hover {background-color: #d4ebff;}#sk-container-id-2 div.sk-parallel-item::after {content: \"\";width: 100%;border-bottom: 1px solid gray;flex-grow: 1;}#sk-container-id-2 div.sk-label:hover label.sk-toggleable__label {background-color: #d4ebff;}#sk-container-id-2 div.sk-serial::before {content: \"\";position: absolute;border-left: 1px solid gray;box-sizing: border-box;top: 0;bottom: 0;left: 50%;z-index: 0;}#sk-container-id-2 div.sk-serial {display: flex;flex-direction: column;align-items: center;background-color: white;padding-right: 0.2em;padding-left: 0.2em;position: relative;}#sk-container-id-2 div.sk-item {position: relative;z-index: 1;}#sk-container-id-2 div.sk-parallel {display: flex;align-items: stretch;justify-content: center;background-color: white;position: relative;}#sk-container-id-2 div.sk-item::before, #sk-container-id-2 div.sk-parallel-item::before {content: \"\";position: absolute;border-left: 1px solid gray;box-sizing: border-box;top: 0;bottom: 0;left: 50%;z-index: -1;}#sk-container-id-2 div.sk-parallel-item {display: flex;flex-direction: column;z-index: 1;position: relative;background-color: white;}#sk-container-id-2 div.sk-parallel-item:first-child::after {align-self: flex-end;width: 50%;}#sk-container-id-2 div.sk-parallel-item:last-child::after {align-self: flex-start;width: 50%;}#sk-container-id-2 div.sk-parallel-item:only-child::after {width: 0;}#sk-container-id-2 div.sk-dashed-wrapped {border: 1px dashed gray;margin: 0 0.4em 0.5em 0.4em;box-sizing: border-box;padding-bottom: 0.4em;background-color: white;}#sk-container-id-2 div.sk-label label {font-family: monospace;font-weight: bold;display: inline-block;line-height: 1.2em;}#sk-container-id-2 div.sk-label-container {text-align: center;}#sk-container-id-2 div.sk-container {/* jupyter's `normalize.less` sets `[hidden] { display: none; }` but bootstrap.min.css set `[hidden] { display: none !important; }` so we also need the `!important` here to be able to override the default hidden behavior on the sphinx rendered scikit-learn.org. See: https://github.com/scikit-learn/scikit-learn/issues/21755 */display: inline-block !important;position: relative;}#sk-container-id-2 div.sk-text-repr-fallback {display: none;}</style><div id=\"sk-container-id-2\" class=\"sk-top-container\"><div class=\"sk-text-repr-fallback\"><pre>Pipeline(steps=[(&#x27;preprocessor&#x27;,\n",
              "                 ColumnTransformer(remainder=&#x27;passthrough&#x27;,\n",
              "                                   transformers=[(&#x27;cat&#x27;,\n",
              "                                                  Pipeline(steps=[(&#x27;onehot&#x27;,\n",
              "                                                                   OneHotEncoder(handle_unknown=&#x27;ignore&#x27;))]),\n",
              "                                                  [&#x27;country&#x27;, &#x27;gender&#x27;])])),\n",
              "                (&#x27;classifier&#x27;, DecisionTreeClassifier(random_state=42))])</pre><b>In a Jupyter environment, please rerun this cell to show the HTML representation or trust the notebook. <br />On GitHub, the HTML representation is unable to render, please try loading this page with nbviewer.org.</b></div><div class=\"sk-container\" hidden><div class=\"sk-item sk-dashed-wrapped\"><div class=\"sk-label-container\"><div class=\"sk-label sk-toggleable\"><input class=\"sk-toggleable__control sk-hidden--visually\" id=\"sk-estimator-id-8\" type=\"checkbox\" ><label for=\"sk-estimator-id-8\" class=\"sk-toggleable__label sk-toggleable__label-arrow\">Pipeline</label><div class=\"sk-toggleable__content\"><pre>Pipeline(steps=[(&#x27;preprocessor&#x27;,\n",
              "                 ColumnTransformer(remainder=&#x27;passthrough&#x27;,\n",
              "                                   transformers=[(&#x27;cat&#x27;,\n",
              "                                                  Pipeline(steps=[(&#x27;onehot&#x27;,\n",
              "                                                                   OneHotEncoder(handle_unknown=&#x27;ignore&#x27;))]),\n",
              "                                                  [&#x27;country&#x27;, &#x27;gender&#x27;])])),\n",
              "                (&#x27;classifier&#x27;, DecisionTreeClassifier(random_state=42))])</pre></div></div></div><div class=\"sk-serial\"><div class=\"sk-item sk-dashed-wrapped\"><div class=\"sk-label-container\"><div class=\"sk-label sk-toggleable\"><input class=\"sk-toggleable__control sk-hidden--visually\" id=\"sk-estimator-id-9\" type=\"checkbox\" ><label for=\"sk-estimator-id-9\" class=\"sk-toggleable__label sk-toggleable__label-arrow\">preprocessor: ColumnTransformer</label><div class=\"sk-toggleable__content\"><pre>ColumnTransformer(remainder=&#x27;passthrough&#x27;,\n",
              "                  transformers=[(&#x27;cat&#x27;,\n",
              "                                 Pipeline(steps=[(&#x27;onehot&#x27;,\n",
              "                                                  OneHotEncoder(handle_unknown=&#x27;ignore&#x27;))]),\n",
              "                                 [&#x27;country&#x27;, &#x27;gender&#x27;])])</pre></div></div></div><div class=\"sk-parallel\"><div class=\"sk-parallel-item\"><div class=\"sk-item\"><div class=\"sk-label-container\"><div class=\"sk-label sk-toggleable\"><input class=\"sk-toggleable__control sk-hidden--visually\" id=\"sk-estimator-id-10\" type=\"checkbox\" ><label for=\"sk-estimator-id-10\" class=\"sk-toggleable__label sk-toggleable__label-arrow\">cat</label><div class=\"sk-toggleable__content\"><pre>[&#x27;country&#x27;, &#x27;gender&#x27;]</pre></div></div></div><div class=\"sk-serial\"><div class=\"sk-item\"><div class=\"sk-serial\"><div class=\"sk-item\"><div class=\"sk-estimator sk-toggleable\"><input class=\"sk-toggleable__control sk-hidden--visually\" id=\"sk-estimator-id-11\" type=\"checkbox\" ><label for=\"sk-estimator-id-11\" class=\"sk-toggleable__label sk-toggleable__label-arrow\">OneHotEncoder</label><div class=\"sk-toggleable__content\"><pre>OneHotEncoder(handle_unknown=&#x27;ignore&#x27;)</pre></div></div></div></div></div></div></div></div><div class=\"sk-parallel-item\"><div class=\"sk-item\"><div class=\"sk-label-container\"><div class=\"sk-label sk-toggleable\"><input class=\"sk-toggleable__control sk-hidden--visually\" id=\"sk-estimator-id-12\" type=\"checkbox\" ><label for=\"sk-estimator-id-12\" class=\"sk-toggleable__label sk-toggleable__label-arrow\">remainder</label><div class=\"sk-toggleable__content\"><pre>[&#x27;credit_score&#x27;, &#x27;age&#x27;, &#x27;tenure&#x27;, &#x27;balance&#x27;, &#x27;products_number&#x27;, &#x27;credit_card&#x27;, &#x27;active_member&#x27;, &#x27;estimated_salary&#x27;]</pre></div></div></div><div class=\"sk-serial\"><div class=\"sk-item\"><div class=\"sk-estimator sk-toggleable\"><input class=\"sk-toggleable__control sk-hidden--visually\" id=\"sk-estimator-id-13\" type=\"checkbox\" ><label for=\"sk-estimator-id-13\" class=\"sk-toggleable__label sk-toggleable__label-arrow\">passthrough</label><div class=\"sk-toggleable__content\"><pre>passthrough</pre></div></div></div></div></div></div></div></div><div class=\"sk-item\"><div class=\"sk-estimator sk-toggleable\"><input class=\"sk-toggleable__control sk-hidden--visually\" id=\"sk-estimator-id-14\" type=\"checkbox\" ><label for=\"sk-estimator-id-14\" class=\"sk-toggleable__label sk-toggleable__label-arrow\">DecisionTreeClassifier</label><div class=\"sk-toggleable__content\"><pre>DecisionTreeClassifier(random_state=42)</pre></div></div></div></div></div></div></div>"
            ]
          },
          "metadata": {},
          "execution_count": 36
        }
      ],
      "source": [
        "# Membuat transformer untuk kategori\n",
        "categorical_transformer = Pipeline(steps=[\n",
        "    ('onehot', OneHotEncoder(handle_unknown='ignore'))\n",
        "])\n",
        "\n",
        "# Menggabungkan transformer kategori dengan transformer lainnya (jika ada)\n",
        "preprocessor = ColumnTransformer(\n",
        "    transformers=[\n",
        "        ('cat', categorical_transformer, categorical_cols),\n",
        "        # (Tambahkan transformer lain jika diperlukan)\n",
        "    ],\n",
        "    remainder='passthrough'\n",
        ")\n",
        "\n",
        "# Menyiapkan pipeline untuk preprocessing data dan melatih model Decision Tree\n",
        "pipeline = Pipeline(steps=[('preprocessor', preprocessor),\n",
        "                           ('classifier', DecisionTreeClassifier(random_state=42))])\n",
        "\n",
        "# Latih model dengan data pelatihan\n",
        "pipeline.fit(X_train, y_train)"
      ],
      "id": "Hw_b1BJSjDZY"
    },
    {
      "cell_type": "code",
      "execution_count": 37,
      "metadata": {
        "id": "mmRLJF_EJhcg"
      },
      "outputs": [],
      "source": [
        "# Transformasi data pelatihan menggunakan preprocessor\n",
        "X_train_encoded = preprocessor.fit_transform(X_train)\n",
        "\n",
        "# Melatih model dengan data pelatihan yang telah diencode\n",
        "decision_tree_model.fit(X_train_encoded, y_train)\n",
        "\n",
        "# Transformasi data uji menggunakan preprocessor\n",
        "X_test_encoded = preprocessor.transform(X_test)\n",
        "\n",
        "# Menggunakan model untuk membuat prediksi pada data uji yang telah diencode\n",
        "y_pred_decision_tree = decision_tree_model.predict(X_test_encoded)"
      ],
      "id": "mmRLJF_EJhcg"
    },
    {
      "cell_type": "code",
      "execution_count": 38,
      "metadata": {
        "colab": {
          "base_uri": "https://localhost:8080/"
        },
        "id": "38Qq54iCKAIm",
        "outputId": "eb1ebf5c-2c19-4abb-98bb-e8b4d0583a3c"
      },
      "outputs": [
        {
          "output_type": "stream",
          "name": "stdout",
          "text": [
            "model Decision Tree\n",
            "Accuracy: 0.78\n",
            "Precision: 0.44\n",
            "Recall: 0.51\n",
            "F1-Score: 0.47\n",
            "Confusion Matrix:\n",
            "[[1354  253]\n",
            " [ 193  200]]\n"
          ]
        }
      ],
      "source": [
        "from sklearn.metrics import accuracy_score, precision_score, recall_score, f1_score, confusion_matrix\n",
        "\n",
        "# Menghitung metrik evaluasi\n",
        "accuracy = accuracy_score(y_test, y_pred_decision_tree)\n",
        "precision = precision_score(y_test, y_pred_decision_tree)\n",
        "recall = recall_score(y_test, y_pred_decision_tree)\n",
        "f1 = f1_score(y_test, y_pred_decision_tree)\n",
        "conf_matrix = confusion_matrix(y_test, y_pred_decision_tree)\n",
        "\n",
        "# Menampilkan hasil evaluasi\n",
        "print(\"model Decision Tree\")\n",
        "print(f\"Accuracy: {accuracy:.2f}\")\n",
        "print(f\"Precision: {precision:.2f}\")\n",
        "print(f\"Recall: {recall:.2f}\")\n",
        "print(f\"F1-Score: {f1:.2f}\")\n",
        "print(\"Confusion Matrix:\")\n",
        "print(conf_matrix)"
      ],
      "id": "38Qq54iCKAIm"
    },
    {
      "cell_type": "code",
      "execution_count": 59,
      "metadata": {
        "colab": {
          "base_uri": "https://localhost:8080/"
        },
        "id": "RwHbKj8LMXuO",
        "outputId": "92dbb24a-abde-4d36-c85f-fcb4397af89a"
      },
      "outputs": [
        {
          "output_type": "stream",
          "name": "stdout",
          "text": [
            "Model Xgboost\n",
            "Akurasi: 0.86\n",
            "Presisi: 0.70\n",
            "Recall: 0.51\n",
            "F1-Score: 0.59\n"
          ]
        }
      ],
      "source": [
        "label_encoders = {}\n",
        "for column in ['country', 'gender']:\n",
        "    label_encoders[column] = LabelEncoder()\n",
        "    df[column] = label_encoders[column].fit_transform(df[column])\n",
        "\n",
        "# Memisahkan fitur (X) dan target (y)\n",
        "X = df.drop('churn', axis=1)\n",
        "y = df['churn']\n",
        "\n",
        "# Membagi data menjadi data pelatihan dan data uji\n",
        "X_train, X_test, y_train, y_test = train_test_split(X, y, test_size=0.2, random_state=42)\n",
        "\n",
        "# Inisialisasi model XGBoost\n",
        "xgb_model = XGBClassifier()\n",
        "\n",
        "# Melatih model dengan data pelatihan\n",
        "xgb_model.fit(X_train, y_train)\n",
        "\n",
        "# Menggunakan model untuk membuat prediksi pada data uji\n",
        "y_pred_class = xgb_model.predict(X_test)\n",
        "\n",
        "# Menghitung akurasi\n",
        "accuracy = accuracy_score(y_test, y_pred_class)\n",
        "\n",
        "# Menghitung presisi\n",
        "precision = precision_score(y_test, y_pred_class)\n",
        "\n",
        "# Menghitung recall\n",
        "recall = recall_score(y_test, y_pred_class)\n",
        "\n",
        "# Menghitung F1-score\n",
        "f1 = f1_score(y_test, y_pred_class)\n",
        "\n",
        "# Menampilkan hasil evaluasi\n",
        "print (\"Model Xgboost\")\n",
        "print(\"Akurasi: {:.2f}\".format(accuracy))\n",
        "print(\"Presisi: {:.2f}\".format(precision))\n",
        "print(\"Recall: {:.2f}\".format(recall))\n",
        "print(\"F1-Score: {:.2f}\".format(f1))\n"
      ],
      "id": "RwHbKj8LMXuO"
    },
    {
      "cell_type": "markdown",
      "metadata": {
        "id": "amNvTxuUrzx4"
      },
      "source": [
        "# Cross-Validation"
      ],
      "id": "amNvTxuUrzx4"
    },
    {
      "cell_type": "markdown",
      "metadata": {
        "id": "Bk-wHHS6sclI"
      },
      "source": [
        "(1) Lakukan validation pada masing-masing model. (Terserah mau pake GSCV, secara sequential. atau bayesian optimization)\n",
        "\n",
        "(2) Gunakan parameter yang diperoleh dari proses validasi untuk membuat model optimasi.\n",
        "\n",
        "(3) Bandingkan metrics evaluasi dengan model yang sebelumnya. Model mana yang mendapatkan performa terbaik? Berikan analisis kalian"
      ],
      "id": "Bk-wHHS6sclI"
    },
    {
      "cell_type": "code",
      "execution_count": 40,
      "metadata": {
        "id": "-QIVbZ00rUJq"
      },
      "outputs": [],
      "source": [
        "from sklearn.model_selection import GridSearchCV\n"
      ],
      "id": "-QIVbZ00rUJq"
    },
    {
      "cell_type": "code",
      "execution_count": 41,
      "metadata": {
        "id": "hntFZ1Kbrjhq"
      },
      "outputs": [],
      "source": [
        "decision_tree_model = DecisionTreeClassifier()\n",
        "decision_tree_params = {'criterion': ['gini', 'entropy'], 'max_depth': [None, 10, 20]}"
      ],
      "id": "hntFZ1Kbrjhq"
    },
    {
      "cell_type": "code",
      "execution_count": 42,
      "metadata": {
        "id": "aYvFqa1JrnOo"
      },
      "outputs": [],
      "source": [
        "random_forest_model = RandomForestClassifier()\n",
        "random_forest_params = {'n_estimators': [50, 100, 200], 'max_depth': [None, 10, 20]}"
      ],
      "id": "aYvFqa1JrnOo"
    },
    {
      "cell_type": "code",
      "execution_count": 43,
      "metadata": {
        "id": "OoDvbnQsr2MF"
      },
      "outputs": [],
      "source": [
        "xgboost_model = XGBClassifier()\n",
        "xgboost_params = {'n_estimators': [50, 100, 200], 'max_depth': [3, 4, 5], 'learning_rate': [0.1, 0.01]}"
      ],
      "id": "OoDvbnQsr2MF"
    },
    {
      "cell_type": "code",
      "execution_count": 44,
      "metadata": {
        "id": "bjN8K_iPtSC0"
      },
      "outputs": [],
      "source": [
        "# Menggunakan One-Hot Encoding untuk kolom-kolom kategorikal\n",
        "X_train_encoded = pd.get_dummies(X_train, columns=['country', 'gender'])\n",
        "X_test_encoded = pd.get_dummies(X_test, columns=['country', 'gender'])\n"
      ],
      "id": "bjN8K_iPtSC0"
    },
    {
      "cell_type": "code",
      "execution_count": 45,
      "metadata": {
        "colab": {
          "base_uri": "https://localhost:8080/"
        },
        "id": "ETRbWbIDLCSo",
        "outputId": "d5c3b4ed-a4be-4187-e9a6-530803d9dd4d"
      },
      "outputs": [
        {
          "output_type": "stream",
          "name": "stdout",
          "text": [
            "      credit_score  country  gender  age  tenure    balance  products_number  \\\n",
            "9254           686   France    Male   32       6       0.00                2   \n",
            "1561           632  Germany    Male   42       4  119624.60                2   \n",
            "1670           559    Spain    Male   24       3  114739.92                1   \n",
            "6087           561   France  Female   27       9  135637.00                1   \n",
            "6669           517   France    Male   56       9  142147.32                1   \n",
            "...            ...      ...     ...  ...     ...        ...              ...   \n",
            "5734           768   France    Male   54       8   69712.74                1   \n",
            "5191           682   France  Female   58       1       0.00                1   \n",
            "5390           735   France  Female   38       1       0.00                3   \n",
            "860            667   France    Male   43       8  190227.46                1   \n",
            "7270           697  Germany    Male   51       1  147910.30                1   \n",
            "\n",
            "      credit_card  active_member  estimated_salary  \n",
            "9254            1              1         179093.26  \n",
            "1561            1              1         195978.86  \n",
            "1670            1              0          85891.02  \n",
            "6087            1              0         153080.40  \n",
            "6669            0              0          39488.04  \n",
            "...           ...            ...               ...  \n",
            "5734            1              1          69381.05  \n",
            "5191            1              1            706.50  \n",
            "5390            0              0          92220.12  \n",
            "860             1              0          97508.04  \n",
            "7270            1              1          53581.14  \n",
            "\n",
            "[8000 rows x 10 columns]\n",
            "9254    0\n",
            "1561    0\n",
            "1670    1\n",
            "6087    1\n",
            "6669    1\n",
            "       ..\n",
            "5734    0\n",
            "5191    0\n",
            "5390    1\n",
            "860     1\n",
            "7270    0\n",
            "Name: churn, Length: 8000, dtype: int64\n"
          ]
        }
      ],
      "source": [
        "print(X_train)\n",
        "print(y_train)"
      ],
      "id": "ETRbWbIDLCSo"
    },
    {
      "cell_type": "code",
      "execution_count": 46,
      "metadata": {
        "colab": {
          "base_uri": "https://localhost:8080/"
        },
        "id": "Y1P7ryfT8ka_",
        "outputId": "8acf3d33-0121-4251-8ebc-183177cdad11"
      },
      "outputs": [
        {
          "output_type": "stream",
          "name": "stdout",
          "text": [
            "Index(['credit_score', 'country', 'gender', 'age', 'tenure', 'balance',\n",
            "       'products_number', 'credit_card', 'active_member', 'estimated_salary',\n",
            "       'churn'],\n",
            "      dtype='object')\n"
          ]
        }
      ],
      "source": [
        "print (df.columns)"
      ],
      "id": "Y1P7ryfT8ka_"
    },
    {
      "cell_type": "code",
      "source": [
        "from sklearn.model_selection import cross_val_score"
      ],
      "metadata": {
        "id": "r1me_355LhdG"
      },
      "id": "r1me_355LhdG",
      "execution_count": 74,
      "outputs": []
    },
    {
      "cell_type": "code",
      "execution_count": 69,
      "metadata": {
        "id": "G_-RHNMIfggz"
      },
      "outputs": [],
      "source": [
        "label_encoders = {}\n",
        "for column in ['country', 'gender']:\n",
        "    label_encoders[column] = LabelEncoder()\n",
        "    df[column] = label_encoders[column].fit_transform(df[column])"
      ],
      "id": "G_-RHNMIfggz"
    },
    {
      "cell_type": "code",
      "execution_count": 75,
      "metadata": {
        "colab": {
          "base_uri": "https://localhost:8080/"
        },
        "id": "U96tU4GLOxML",
        "outputId": "c9d24a88-5fd2-4182-e85c-3e08500657b2"
      },
      "outputs": [
        {
          "output_type": "stream",
          "name": "stdout",
          "text": [
            "Cross Validation 'Logistic Regression'\n",
            "Akurasi setiap fold: [0.7915 0.791  0.793  0.789  0.7885]\n",
            "Rata-rata akurasi: 0.7906000000000001\n"
          ]
        }
      ],
      "source": [
        "# Memisahkan fitur (X) dan target (y)\n",
        "X = df.drop('churn', axis=1)\n",
        "y = df['churn']\n",
        "\n",
        "# Inisialisasi model Logistic Regression\n",
        "logreg_model = LogisticRegression(random_state=42)\n",
        "\n",
        "# Lakukan cross-validation dengan 5 fold\n",
        "cv_scores = cross_val_score(logreg_model, X, y, cv=5, scoring='accuracy')\n",
        "\n",
        "# Menampilkan hasil cross-validation\n",
        "print(\"Cross Validation 'Logistic Regression'\")\n",
        "print(\"Akurasi setiap fold:\", cv_scores)\n",
        "print(\"Rata-rata akurasi:\", cv_scores.mean())\n"
      ],
      "id": "U96tU4GLOxML"
    },
    {
      "cell_type": "code",
      "execution_count": 49,
      "metadata": {
        "colab": {
          "base_uri": "https://localhost:8080/",
          "height": 118
        },
        "id": "MPIdVGHo88-l",
        "outputId": "6c6959a9-b04e-48cf-f118-3aeeb9a1750b"
      },
      "outputs": [
        {
          "output_type": "execute_result",
          "data": {
            "text/plain": [
              "GridSearchCV(cv=5, estimator=DecisionTreeClassifier(),\n",
              "             param_grid={'criterion': ['gini', 'entropy'],\n",
              "                         'max_depth': [None, 10, 20, 30],\n",
              "                         'min_samples_split': [2, 5, 10]},\n",
              "             scoring='accuracy')"
            ],
            "text/html": [
              "<style>#sk-container-id-3 {color: black;background-color: white;}#sk-container-id-3 pre{padding: 0;}#sk-container-id-3 div.sk-toggleable {background-color: white;}#sk-container-id-3 label.sk-toggleable__label {cursor: pointer;display: block;width: 100%;margin-bottom: 0;padding: 0.3em;box-sizing: border-box;text-align: center;}#sk-container-id-3 label.sk-toggleable__label-arrow:before {content: \"▸\";float: left;margin-right: 0.25em;color: #696969;}#sk-container-id-3 label.sk-toggleable__label-arrow:hover:before {color: black;}#sk-container-id-3 div.sk-estimator:hover label.sk-toggleable__label-arrow:before {color: black;}#sk-container-id-3 div.sk-toggleable__content {max-height: 0;max-width: 0;overflow: hidden;text-align: left;background-color: #f0f8ff;}#sk-container-id-3 div.sk-toggleable__content pre {margin: 0.2em;color: black;border-radius: 0.25em;background-color: #f0f8ff;}#sk-container-id-3 input.sk-toggleable__control:checked~div.sk-toggleable__content {max-height: 200px;max-width: 100%;overflow: auto;}#sk-container-id-3 input.sk-toggleable__control:checked~label.sk-toggleable__label-arrow:before {content: \"▾\";}#sk-container-id-3 div.sk-estimator input.sk-toggleable__control:checked~label.sk-toggleable__label {background-color: #d4ebff;}#sk-container-id-3 div.sk-label input.sk-toggleable__control:checked~label.sk-toggleable__label {background-color: #d4ebff;}#sk-container-id-3 input.sk-hidden--visually {border: 0;clip: rect(1px 1px 1px 1px);clip: rect(1px, 1px, 1px, 1px);height: 1px;margin: -1px;overflow: hidden;padding: 0;position: absolute;width: 1px;}#sk-container-id-3 div.sk-estimator {font-family: monospace;background-color: #f0f8ff;border: 1px dotted black;border-radius: 0.25em;box-sizing: border-box;margin-bottom: 0.5em;}#sk-container-id-3 div.sk-estimator:hover {background-color: #d4ebff;}#sk-container-id-3 div.sk-parallel-item::after {content: \"\";width: 100%;border-bottom: 1px solid gray;flex-grow: 1;}#sk-container-id-3 div.sk-label:hover label.sk-toggleable__label {background-color: #d4ebff;}#sk-container-id-3 div.sk-serial::before {content: \"\";position: absolute;border-left: 1px solid gray;box-sizing: border-box;top: 0;bottom: 0;left: 50%;z-index: 0;}#sk-container-id-3 div.sk-serial {display: flex;flex-direction: column;align-items: center;background-color: white;padding-right: 0.2em;padding-left: 0.2em;position: relative;}#sk-container-id-3 div.sk-item {position: relative;z-index: 1;}#sk-container-id-3 div.sk-parallel {display: flex;align-items: stretch;justify-content: center;background-color: white;position: relative;}#sk-container-id-3 div.sk-item::before, #sk-container-id-3 div.sk-parallel-item::before {content: \"\";position: absolute;border-left: 1px solid gray;box-sizing: border-box;top: 0;bottom: 0;left: 50%;z-index: -1;}#sk-container-id-3 div.sk-parallel-item {display: flex;flex-direction: column;z-index: 1;position: relative;background-color: white;}#sk-container-id-3 div.sk-parallel-item:first-child::after {align-self: flex-end;width: 50%;}#sk-container-id-3 div.sk-parallel-item:last-child::after {align-self: flex-start;width: 50%;}#sk-container-id-3 div.sk-parallel-item:only-child::after {width: 0;}#sk-container-id-3 div.sk-dashed-wrapped {border: 1px dashed gray;margin: 0 0.4em 0.5em 0.4em;box-sizing: border-box;padding-bottom: 0.4em;background-color: white;}#sk-container-id-3 div.sk-label label {font-family: monospace;font-weight: bold;display: inline-block;line-height: 1.2em;}#sk-container-id-3 div.sk-label-container {text-align: center;}#sk-container-id-3 div.sk-container {/* jupyter's `normalize.less` sets `[hidden] { display: none; }` but bootstrap.min.css set `[hidden] { display: none !important; }` so we also need the `!important` here to be able to override the default hidden behavior on the sphinx rendered scikit-learn.org. See: https://github.com/scikit-learn/scikit-learn/issues/21755 */display: inline-block !important;position: relative;}#sk-container-id-3 div.sk-text-repr-fallback {display: none;}</style><div id=\"sk-container-id-3\" class=\"sk-top-container\"><div class=\"sk-text-repr-fallback\"><pre>GridSearchCV(cv=5, estimator=DecisionTreeClassifier(),\n",
              "             param_grid={&#x27;criterion&#x27;: [&#x27;gini&#x27;, &#x27;entropy&#x27;],\n",
              "                         &#x27;max_depth&#x27;: [None, 10, 20, 30],\n",
              "                         &#x27;min_samples_split&#x27;: [2, 5, 10]},\n",
              "             scoring=&#x27;accuracy&#x27;)</pre><b>In a Jupyter environment, please rerun this cell to show the HTML representation or trust the notebook. <br />On GitHub, the HTML representation is unable to render, please try loading this page with nbviewer.org.</b></div><div class=\"sk-container\" hidden><div class=\"sk-item sk-dashed-wrapped\"><div class=\"sk-label-container\"><div class=\"sk-label sk-toggleable\"><input class=\"sk-toggleable__control sk-hidden--visually\" id=\"sk-estimator-id-15\" type=\"checkbox\" ><label for=\"sk-estimator-id-15\" class=\"sk-toggleable__label sk-toggleable__label-arrow\">GridSearchCV</label><div class=\"sk-toggleable__content\"><pre>GridSearchCV(cv=5, estimator=DecisionTreeClassifier(),\n",
              "             param_grid={&#x27;criterion&#x27;: [&#x27;gini&#x27;, &#x27;entropy&#x27;],\n",
              "                         &#x27;max_depth&#x27;: [None, 10, 20, 30],\n",
              "                         &#x27;min_samples_split&#x27;: [2, 5, 10]},\n",
              "             scoring=&#x27;accuracy&#x27;)</pre></div></div></div><div class=\"sk-parallel\"><div class=\"sk-parallel-item\"><div class=\"sk-item\"><div class=\"sk-label-container\"><div class=\"sk-label sk-toggleable\"><input class=\"sk-toggleable__control sk-hidden--visually\" id=\"sk-estimator-id-16\" type=\"checkbox\" ><label for=\"sk-estimator-id-16\" class=\"sk-toggleable__label sk-toggleable__label-arrow\">estimator: DecisionTreeClassifier</label><div class=\"sk-toggleable__content\"><pre>DecisionTreeClassifier()</pre></div></div></div><div class=\"sk-serial\"><div class=\"sk-item\"><div class=\"sk-estimator sk-toggleable\"><input class=\"sk-toggleable__control sk-hidden--visually\" id=\"sk-estimator-id-17\" type=\"checkbox\" ><label for=\"sk-estimator-id-17\" class=\"sk-toggleable__label sk-toggleable__label-arrow\">DecisionTreeClassifier</label><div class=\"sk-toggleable__content\"><pre>DecisionTreeClassifier()</pre></div></div></div></div></div></div></div></div></div></div>"
            ]
          },
          "metadata": {},
          "execution_count": 49
        }
      ],
      "source": [
        "decision_tree_model = DecisionTreeClassifier()\n",
        "\n",
        "param_grid = {\n",
        "    'criterion': ['gini', 'entropy'],\n",
        "    'max_depth': [None, 10, 20, 30],\n",
        "    'min_samples_split': [2, 5, 10]\n",
        "}\n",
        "\n",
        "gscv_decision_tree = GridSearchCV(estimator=decision_tree_model, param_grid=param_grid, scoring='accuracy', cv=5)\n",
        "gscv_decision_tree.fit(X_train_encoded, y_train)"
      ],
      "id": "MPIdVGHo88-l"
    },
    {
      "cell_type": "code",
      "execution_count": 50,
      "metadata": {
        "colab": {
          "base_uri": "https://localhost:8080/"
        },
        "id": "49Nnzb_fJjq2",
        "outputId": "71786d29-0af0-4ab3-b277-44f88deacb2f"
      },
      "outputs": [
        {
          "output_type": "stream",
          "name": "stdout",
          "text": [
            "Best Parameters: {'criterion': 'entropy', 'max_depth': 10, 'min_samples_leaf': 2, 'min_samples_split': 10}\n",
            "Accuracy using Decision Tree Classifier (after GSCV, One-Hot Encoding, and Label Encoding): 0.8355\n"
          ]
        }
      ],
      "source": [
        "from sklearn.preprocessing import LabelEncoder\n",
        "from sklearn.tree import DecisionTreeClassifier\n",
        "from sklearn.model_selection import GridSearchCV\n",
        "from sklearn.metrics import accuracy_score\n",
        "\n",
        "# Inisialisasi Label Encoder\n",
        "label_encoder = LabelEncoder()\n",
        "\n",
        "\n",
        "# Inisialisasi model Decision Tree\n",
        "decision_tree_model = DecisionTreeClassifier(random_state=42)\n",
        "\n",
        "# Tentukan hyperparameter yang akan diuji\n",
        "param_grid = {\n",
        "    'criterion': ['gini', 'entropy'],\n",
        "    'max_depth': [None, 10, 20, 30],\n",
        "    'min_samples_split': [2, 5, 10],\n",
        "    'min_samples_leaf': [1, 2, 4]\n",
        "}\n",
        "\n",
        "# Inisialisasi GSCV dengan model Decision Tree dan parameter grid\n",
        "gscv_decision_tree = GridSearchCV(estimator=decision_tree_model, param_grid=param_grid, scoring='accuracy', cv=5)\n",
        "\n",
        "# Melatih GSCV dengan data pelatihan yang telah di-encode\n",
        "gscv_decision_tree.fit(X_train_encoded, y_train)\n",
        "\n",
        "# Mendapatkan parameter terbaik\n",
        "best_params = gscv_decision_tree.best_params_\n",
        "print(\"Best Parameters:\", best_params)\n",
        "\n",
        "# Melakukan prediksi menggunakan model terbaik\n",
        "y_pred_decision_tree = gscv_decision_tree.predict(X_test_encoded)\n",
        "\n",
        "# Evaluasi model menggunakan akurasi\n",
        "accuracy_decision_tree = accuracy_score(y_test, y_pred_decision_tree)\n",
        "print(\"Accuracy using Decision Tree Classifier (after GSCV, One-Hot Encoding, and Label Encoding):\", accuracy_decision_tree)"
      ],
      "id": "49Nnzb_fJjq2"
    },
    {
      "cell_type": "code",
      "execution_count": 51,
      "metadata": {
        "id": "unfLfEyO_zfP"
      },
      "outputs": [],
      "source": [
        "param_grid = {\n",
        "    'n_estimators': [100, 200, 300],\n",
        "    'max_depth': [None, 10, 20],\n",
        "    'min_samples_split': [2, 5, 10],\n",
        "    'min_samples_leaf': [1, 2, 4]\n",
        "}\n",
        "\n",
        "random_forest_model = RandomForestClassifier(random_state=42)"
      ],
      "id": "unfLfEyO_zfP"
    },
    {
      "cell_type": "code",
      "execution_count": 52,
      "metadata": {
        "id": "5DX9s5EA_3df"
      },
      "outputs": [],
      "source": [
        "gscv_random_forest = GridSearchCV(estimator=random_forest_model, param_grid=param_grid, scoring='accuracy', cv=5)"
      ],
      "id": "5DX9s5EA_3df"
    },
    {
      "cell_type": "code",
      "execution_count": 53,
      "metadata": {
        "id": "J2GjcGoF_82P"
      },
      "outputs": [],
      "source": [
        "pipeline = Pipeline(steps=[('preprocessor', preprocessor),\n",
        "                           ('classifier', gscv_random_forest)])"
      ],
      "id": "J2GjcGoF_82P"
    },
    {
      "cell_type": "code",
      "execution_count": 54,
      "metadata": {
        "id": "HgcR1O14ADKT"
      },
      "outputs": [],
      "source": [
        "pipeline = Pipeline(steps=[('preprocessor', preprocessor),\n",
        "                           ('classifier', random_forest_model)])"
      ],
      "id": "HgcR1O14ADKT"
    },
    {
      "cell_type": "code",
      "execution_count": 55,
      "metadata": {
        "colab": {
          "base_uri": "https://localhost:8080/",
          "height": 118
        },
        "id": "FPC1BAmQBK0q",
        "outputId": "5cef8293-2158-44da-d743-8e3c50d36061"
      },
      "outputs": [
        {
          "output_type": "execute_result",
          "data": {
            "text/plain": [
              "GridSearchCV(cv=5, estimator=RandomForestClassifier(random_state=42),\n",
              "             param_grid={'max_depth': [None, 10, 20],\n",
              "                         'min_samples_leaf': [1, 2, 4],\n",
              "                         'min_samples_split': [2, 5, 10],\n",
              "                         'n_estimators': [100, 200, 300]},\n",
              "             scoring='accuracy')"
            ],
            "text/html": [
              "<style>#sk-container-id-4 {color: black;background-color: white;}#sk-container-id-4 pre{padding: 0;}#sk-container-id-4 div.sk-toggleable {background-color: white;}#sk-container-id-4 label.sk-toggleable__label {cursor: pointer;display: block;width: 100%;margin-bottom: 0;padding: 0.3em;box-sizing: border-box;text-align: center;}#sk-container-id-4 label.sk-toggleable__label-arrow:before {content: \"▸\";float: left;margin-right: 0.25em;color: #696969;}#sk-container-id-4 label.sk-toggleable__label-arrow:hover:before {color: black;}#sk-container-id-4 div.sk-estimator:hover label.sk-toggleable__label-arrow:before {color: black;}#sk-container-id-4 div.sk-toggleable__content {max-height: 0;max-width: 0;overflow: hidden;text-align: left;background-color: #f0f8ff;}#sk-container-id-4 div.sk-toggleable__content pre {margin: 0.2em;color: black;border-radius: 0.25em;background-color: #f0f8ff;}#sk-container-id-4 input.sk-toggleable__control:checked~div.sk-toggleable__content {max-height: 200px;max-width: 100%;overflow: auto;}#sk-container-id-4 input.sk-toggleable__control:checked~label.sk-toggleable__label-arrow:before {content: \"▾\";}#sk-container-id-4 div.sk-estimator input.sk-toggleable__control:checked~label.sk-toggleable__label {background-color: #d4ebff;}#sk-container-id-4 div.sk-label input.sk-toggleable__control:checked~label.sk-toggleable__label {background-color: #d4ebff;}#sk-container-id-4 input.sk-hidden--visually {border: 0;clip: rect(1px 1px 1px 1px);clip: rect(1px, 1px, 1px, 1px);height: 1px;margin: -1px;overflow: hidden;padding: 0;position: absolute;width: 1px;}#sk-container-id-4 div.sk-estimator {font-family: monospace;background-color: #f0f8ff;border: 1px dotted black;border-radius: 0.25em;box-sizing: border-box;margin-bottom: 0.5em;}#sk-container-id-4 div.sk-estimator:hover {background-color: #d4ebff;}#sk-container-id-4 div.sk-parallel-item::after {content: \"\";width: 100%;border-bottom: 1px solid gray;flex-grow: 1;}#sk-container-id-4 div.sk-label:hover label.sk-toggleable__label {background-color: #d4ebff;}#sk-container-id-4 div.sk-serial::before {content: \"\";position: absolute;border-left: 1px solid gray;box-sizing: border-box;top: 0;bottom: 0;left: 50%;z-index: 0;}#sk-container-id-4 div.sk-serial {display: flex;flex-direction: column;align-items: center;background-color: white;padding-right: 0.2em;padding-left: 0.2em;position: relative;}#sk-container-id-4 div.sk-item {position: relative;z-index: 1;}#sk-container-id-4 div.sk-parallel {display: flex;align-items: stretch;justify-content: center;background-color: white;position: relative;}#sk-container-id-4 div.sk-item::before, #sk-container-id-4 div.sk-parallel-item::before {content: \"\";position: absolute;border-left: 1px solid gray;box-sizing: border-box;top: 0;bottom: 0;left: 50%;z-index: -1;}#sk-container-id-4 div.sk-parallel-item {display: flex;flex-direction: column;z-index: 1;position: relative;background-color: white;}#sk-container-id-4 div.sk-parallel-item:first-child::after {align-self: flex-end;width: 50%;}#sk-container-id-4 div.sk-parallel-item:last-child::after {align-self: flex-start;width: 50%;}#sk-container-id-4 div.sk-parallel-item:only-child::after {width: 0;}#sk-container-id-4 div.sk-dashed-wrapped {border: 1px dashed gray;margin: 0 0.4em 0.5em 0.4em;box-sizing: border-box;padding-bottom: 0.4em;background-color: white;}#sk-container-id-4 div.sk-label label {font-family: monospace;font-weight: bold;display: inline-block;line-height: 1.2em;}#sk-container-id-4 div.sk-label-container {text-align: center;}#sk-container-id-4 div.sk-container {/* jupyter's `normalize.less` sets `[hidden] { display: none; }` but bootstrap.min.css set `[hidden] { display: none !important; }` so we also need the `!important` here to be able to override the default hidden behavior on the sphinx rendered scikit-learn.org. See: https://github.com/scikit-learn/scikit-learn/issues/21755 */display: inline-block !important;position: relative;}#sk-container-id-4 div.sk-text-repr-fallback {display: none;}</style><div id=\"sk-container-id-4\" class=\"sk-top-container\"><div class=\"sk-text-repr-fallback\"><pre>GridSearchCV(cv=5, estimator=RandomForestClassifier(random_state=42),\n",
              "             param_grid={&#x27;max_depth&#x27;: [None, 10, 20],\n",
              "                         &#x27;min_samples_leaf&#x27;: [1, 2, 4],\n",
              "                         &#x27;min_samples_split&#x27;: [2, 5, 10],\n",
              "                         &#x27;n_estimators&#x27;: [100, 200, 300]},\n",
              "             scoring=&#x27;accuracy&#x27;)</pre><b>In a Jupyter environment, please rerun this cell to show the HTML representation or trust the notebook. <br />On GitHub, the HTML representation is unable to render, please try loading this page with nbviewer.org.</b></div><div class=\"sk-container\" hidden><div class=\"sk-item sk-dashed-wrapped\"><div class=\"sk-label-container\"><div class=\"sk-label sk-toggleable\"><input class=\"sk-toggleable__control sk-hidden--visually\" id=\"sk-estimator-id-18\" type=\"checkbox\" ><label for=\"sk-estimator-id-18\" class=\"sk-toggleable__label sk-toggleable__label-arrow\">GridSearchCV</label><div class=\"sk-toggleable__content\"><pre>GridSearchCV(cv=5, estimator=RandomForestClassifier(random_state=42),\n",
              "             param_grid={&#x27;max_depth&#x27;: [None, 10, 20],\n",
              "                         &#x27;min_samples_leaf&#x27;: [1, 2, 4],\n",
              "                         &#x27;min_samples_split&#x27;: [2, 5, 10],\n",
              "                         &#x27;n_estimators&#x27;: [100, 200, 300]},\n",
              "             scoring=&#x27;accuracy&#x27;)</pre></div></div></div><div class=\"sk-parallel\"><div class=\"sk-parallel-item\"><div class=\"sk-item\"><div class=\"sk-label-container\"><div class=\"sk-label sk-toggleable\"><input class=\"sk-toggleable__control sk-hidden--visually\" id=\"sk-estimator-id-19\" type=\"checkbox\" ><label for=\"sk-estimator-id-19\" class=\"sk-toggleable__label sk-toggleable__label-arrow\">estimator: RandomForestClassifier</label><div class=\"sk-toggleable__content\"><pre>RandomForestClassifier(random_state=42)</pre></div></div></div><div class=\"sk-serial\"><div class=\"sk-item\"><div class=\"sk-estimator sk-toggleable\"><input class=\"sk-toggleable__control sk-hidden--visually\" id=\"sk-estimator-id-20\" type=\"checkbox\" ><label for=\"sk-estimator-id-20\" class=\"sk-toggleable__label sk-toggleable__label-arrow\">RandomForestClassifier</label><div class=\"sk-toggleable__content\"><pre>RandomForestClassifier(random_state=42)</pre></div></div></div></div></div></div></div></div></div></div>"
            ]
          },
          "metadata": {},
          "execution_count": 55
        }
      ],
      "source": [
        "# Ubah fitur kategorikal menggunakan one-hot encoding\n",
        "X_train_encoded = pd.get_dummies(X_train, columns=['country', 'gender'])\n",
        "\n",
        "# Inisialisasi dan latih model Random Forest dengan data yang telah diproses\n",
        "gscv_random_forest.fit(X_train_encoded, y_train)"
      ],
      "id": "FPC1BAmQBK0q"
    },
    {
      "cell_type": "code",
      "execution_count": 66,
      "metadata": {
        "colab": {
          "base_uri": "https://localhost:8080/"
        },
        "id": "h62iRGJsCFTi",
        "outputId": "3cfe76b8-de4c-4785-eed3-9de3908a2605"
      },
      "outputs": [
        {
          "output_type": "stream",
          "name": "stdout",
          "text": [
            "Parameter Terbaik: {'classifier__max_depth': 10, 'classifier__min_samples_split': 2, 'classifier__n_estimators': 100}\n",
            "Akurasi Terbaik: 0.7963\n"
          ]
        }
      ],
      "source": [
        "# Persiapkan data\n",
        "X =df.drop('churn', axis=1)\n",
        "y =df['churn']\n",
        "\n",
        "# Encode fitur kategorikal\n",
        "categorical_features = ['country', 'gender']\n",
        "categorical_transformer = Pipeline(steps=[\n",
        "    ('onehot', OneHotEncoder(handle_unknown='ignore'))\n",
        "])\n",
        "\n",
        "preprocessor = ColumnTransformer(\n",
        "    transformers=[\n",
        "        ('cat', categorical_transformer, categorical_features)\n",
        "    ])\n",
        "\n",
        "# Definisikan model\n",
        "model = Pipeline(steps=[('preprocessor', preprocessor),\n",
        "                        ('classifier', RandomForestClassifier())])\n",
        "\n",
        "# Tentukan parameter grid yang ingin diuji\n",
        "param_grid = {\n",
        "    'classifier__n_estimators': [100, 200, 300],\n",
        "    'classifier__max_depth': [10, 20, 30],\n",
        "    'classifier__min_samples_split': [2, 5, 10],}\n",
        "\n",
        "# Gunakan GridSearchCV\n",
        "grid_search = GridSearchCV(model, param_grid, cv=5, scoring='accuracy')\n",
        "\n",
        "# Lakukan pencarian parameter terbaik\n",
        "grid_search.fit(X, y)\n",
        "\n",
        "# Tampilkan parameter terbaik dan skor terbaik\n",
        "print(\"Parameter Terbaik:\", grid_search.best_params_)\n",
        "print(\"Akurasi Terbaik:\", grid_search.best_score_)"
      ],
      "id": "h62iRGJsCFTi"
    },
    {
      "cell_type": "code",
      "execution_count": 65,
      "metadata": {
        "colab": {
          "base_uri": "https://localhost:8080/"
        },
        "id": "rK5zNCDkCnRQ",
        "outputId": "9af107c6-28b2-40a0-cc67-8077b9e3cbfe"
      },
      "outputs": [
        {
          "output_type": "stream",
          "name": "stdout",
          "text": [
            "Parameter Terbaik: {'classifier__learning_rate': 0.1, 'classifier__max_depth': 3, 'classifier__n_estimators': 100}\n",
            "Akurasi Terbaik: 0.7963\n"
          ]
        }
      ],
      "source": [
        "# Persiapkan data\n",
        "X = df.drop('churn', axis=1)\n",
        "y = df['churn']\n",
        "\n",
        "# Encode fitur kategorikal\n",
        "categorical_features = ['country', 'gender']\n",
        "categorical_transformer = Pipeline(steps=[\n",
        "    ('onehot', OneHotEncoder(handle_unknown='ignore'))\n",
        "])\n",
        "\n",
        "preprocessor = ColumnTransformer(\n",
        "    transformers=[\n",
        "        ('cat', categorical_transformer, categorical_features)\n",
        "    ])\n",
        "\n",
        "# Definisikan model XGBoost\n",
        "model = Pipeline(steps=[('preprocessor', preprocessor),\n",
        "                        ('classifier', XGBClassifier())])\n",
        "\n",
        "# Tentukan parameter grid yang ingin diuji\n",
        "param_grid = {\n",
        "    'classifier__n_estimators': [100, 200, 300],\n",
        "    'classifier__max_depth': [3, 4, 5],\n",
        "    'classifier__learning_rate': [0.1, 0.01, 0.05],\n",
        "    # Tambahkan parameter lain yang ingin Anda coba di sini\n",
        "}\n",
        "\n",
        "# Gunakan GridSearchCV\n",
        "grid_search = GridSearchCV(model, param_grid, cv=5, scoring='accuracy')\n",
        "\n",
        "# Lakukan pencarian parameter terbaik\n",
        "grid_search.fit(X, y)\n",
        "\n",
        "# Tampilkan parameter terbaik dan skor terbaik\n",
        "print(\"Parameter Terbaik:\", grid_search.best_params_)\n",
        "print(\"Akurasi Terbaik:\", grid_search.best_score_)"
      ],
      "id": "rK5zNCDkCnRQ"
    }
  ],
  "metadata": {
    "colab": {
      "provenance": []
    },
    "kernelspec": {
      "display_name": "Python 3 (ipykernel)",
      "language": "python",
      "name": "python3"
    },
    "language_info": {
      "codemirror_mode": {
        "name": "ipython",
        "version": 3
      },
      "file_extension": ".py",
      "mimetype": "text/x-python",
      "name": "python",
      "nbconvert_exporter": "python",
      "pygments_lexer": "ipython3",
      "version": "3.9.11"
    }
  },
  "nbformat": 4,
  "nbformat_minor": 5
}